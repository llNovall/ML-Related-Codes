{
 "cells": [
  {
   "cell_type": "code",
   "execution_count": 1,
   "id": "fd4b68f5",
   "metadata": {
    "_cell_guid": "b1076dfc-b9ad-4769-8c92-a6c4dae69d19",
    "_uuid": "8f2839f25d086af736a60e9eeb907d3b93b6e0e5",
    "execution": {
     "iopub.execute_input": "2022-03-24T14:00:49.517317Z",
     "iopub.status.busy": "2022-03-24T14:00:49.515807Z",
     "iopub.status.idle": "2022-03-24T14:00:55.310423Z",
     "shell.execute_reply": "2022-03-24T14:00:55.309779Z",
     "shell.execute_reply.started": "2022-03-24T13:13:52.525530Z"
    },
    "papermill": {
     "duration": 5.816658,
     "end_time": "2022-03-24T14:00:55.310582",
     "exception": false,
     "start_time": "2022-03-24T14:00:49.493924",
     "status": "completed"
    },
    "tags": []
   },
   "outputs": [],
   "source": [
    "import numpy as np\n",
    "import pandas as pd\n",
    "import matplotlib.pyplot as plt\n",
    "import seaborn as sns\n",
    "import tensorflow as tf\n",
    "from sklearn.model_selection import train_test_split\n",
    "from tensorflow.keras.preprocessing import text, sequence\n",
    "from tensorflow.keras.layers import SimpleRNN, Dense, Embedding, LSTM, GRU, SpatialDropout1D, Bidirectional, BatchNormalization\n",
    "from tensorflow.keras.models import Sequential, Model\n",
    "import tensorflow.keras.layers as layers\n",
    "from tensorflow.keras.callbacks import EarlyStopping\n",
    "from sklearn.metrics import roc_curve, roc_auc_score, auc, f1_score\n",
    "from IPython.display import display\n",
    "import tensorflow.keras.metrics as metrics \n",
    "import tensorflow_addons.metrics as tfa_metrics\n",
    "from keras import backend as K\n",
    "np.random.seed(1)\n",
    "tf.random.set_seed(1)"
   ]
  },
  {
   "cell_type": "code",
   "execution_count": 2,
   "id": "3921af9a",
   "metadata": {
    "execution": {
     "iopub.execute_input": "2022-03-24T14:00:55.352984Z",
     "iopub.status.busy": "2022-03-24T14:00:55.352431Z",
     "iopub.status.idle": "2022-03-24T14:00:55.356065Z",
     "shell.execute_reply": "2022-03-24T14:00:55.355656Z",
     "shell.execute_reply.started": "2022-03-24T13:13:52.614498Z"
    },
    "papermill": {
     "duration": 0.027166,
     "end_time": "2022-03-24T14:00:55.356182",
     "exception": false,
     "start_time": "2022-03-24T14:00:55.329016",
     "status": "completed"
    },
    "tags": []
   },
   "outputs": [],
   "source": [
    "def recall(y_true, y_pred):\n",
    "    true_positives = K.sum(K.round(K.clip(y_true * y_pred, 0, 1)))\n",
    "    possible_positives = K.sum(K.round(K.clip(y_true, 0, 1)))\n",
    "    recall_keras = true_positives / (possible_positives + K.epsilon())\n",
    "    return recall_keras\n",
    "\n",
    "\n",
    "def precision(y_true, y_pred):\n",
    "    true_positives = K.sum(K.round(K.clip(y_true * y_pred, 0, 1)))\n",
    "    predicted_positives = K.sum(K.round(K.clip(y_pred, 0, 1)))\n",
    "    precision_keras = true_positives / (predicted_positives + K.epsilon())\n",
    "    return precision_keras\n",
    "\n",
    "def f1(y_true, y_pred):\n",
    "    p = precision(y_true, y_pred)\n",
    "    r = recall(y_true, y_pred)\n",
    "    return 2 * ((p * r) / (p + r + K.epsilon()))"
   ]
  },
  {
   "cell_type": "code",
   "execution_count": 3,
   "id": "30223884",
   "metadata": {
    "execution": {
     "iopub.execute_input": "2022-03-24T14:00:55.395991Z",
     "iopub.status.busy": "2022-03-24T14:00:55.395393Z",
     "iopub.status.idle": "2022-03-24T14:00:55.398038Z",
     "shell.execute_reply": "2022-03-24T14:00:55.397602Z",
     "shell.execute_reply.started": "2022-03-24T13:13:52.690102Z"
    },
    "papermill": {
     "duration": 0.025505,
     "end_time": "2022-03-24T14:00:55.398152",
     "exception": false,
     "start_time": "2022-03-24T14:00:55.372647",
     "status": "completed"
    },
    "tags": []
   },
   "outputs": [],
   "source": [
    "def create_tokenizer(list_text):\n",
    "    \n",
    "    tokenizer = text.Tokenizer()\n",
    "    tokenizer.fit_on_texts(list_text)\n",
    "    \n",
    "    return tokenizer\n",
    "def encode_data(tokenizer : text.Tokenizer, X, maxlen):\n",
    "    \n",
    "    seq = tokenizer.texts_to_sequences(X)\n",
    "    pad = sequence.pad_sequences(seq, maxlen=maxlen)\n",
    "    \n",
    "    return pad\n",
    "\n",
    "def convert_probabilities_to_predictions(probabilities):\n",
    "    predictions = [np.rint(x) for x in probabilities]\n",
    "    return predictions\n",
    "\n",
    "def make_prediction(model, X, tokenizer):\n",
    "    \n",
    "    X_encoded = encode_data(tokenizer,X)\n",
    "    probabilities = model.predict(X_encoded)\n",
    "    predictions = convert_probabilities_to_predictions(probabilities)\n",
    "    \n",
    "    return predictions\n",
    "\n",
    "def load_data(train_data_path, test_data_path):\n",
    "    train_data = pd.read_csv(train_data_path)\n",
    "    test_data = pd.read_csv(test_data_path)\n",
    "    \n",
    "    return train_data, test_data"
   ]
  },
  {
   "cell_type": "code",
   "execution_count": 4,
   "id": "9042ceaf",
   "metadata": {
    "execution": {
     "iopub.execute_input": "2022-03-24T14:00:55.441899Z",
     "iopub.status.busy": "2022-03-24T14:00:55.440374Z",
     "iopub.status.idle": "2022-03-24T14:00:55.442506Z",
     "shell.execute_reply": "2022-03-24T14:00:55.442890Z",
     "shell.execute_reply.started": "2022-03-24T13:13:52.765391Z"
    },
    "papermill": {
     "duration": 0.028159,
     "end_time": "2022-03-24T14:00:55.443029",
     "exception": false,
     "start_time": "2022-03-24T14:00:55.414870",
     "status": "completed"
    },
    "tags": []
   },
   "outputs": [],
   "source": [
    "logs = []\n",
    "\n",
    "def add_log(hyperparameters, metrics, histories):\n",
    "    logs.append((hyperparameters.copy(), metrics.copy(), histories.copy()))\n",
    "    \n",
    "def display_log():\n",
    "    for count,(hyperparameters,metrics, histories) in enumerate(logs):\n",
    "        print(f'Logs : Run {count}')\n",
    "        print(f'------------------')\n",
    "#         print(hyperparameters)\n",
    "        for key in hyperparameters.keys():\n",
    "            print(f'{key} : {hyperparameters[key]}')\n",
    "        metrics_df = pd.DataFrame(metrics)\n",
    "        display(metrics_df.style.background_gradient(cmap='OrRd'))\n",
    "        \n",
    "        \n",
    "    for count,(hyperparameters,metrics, histories) in enumerate(logs):\n",
    "        for optimizer_name in histories.keys():\n",
    "            m_dic = histories[optimizer_name]\n",
    "\n",
    "            for model_name in m_dic.keys():\n",
    "                history = m_dic[model_name]\n",
    "\n",
    "                df_history = pd.DataFrame(m_dic[model_name]['History'].history)\n",
    "\n",
    "                df_loss = df_history[['loss','val_loss']]\n",
    "                df_accuracy = df_history[['accuracy', 'val_accuracy']]\n",
    "\n",
    "                fig, axes = plt.subplots(1,2, dpi=100, figsize=(10,3), facecolor='white')\n",
    "                fig.suptitle(f'{optimizer_name} - {model_name}')\n",
    "\n",
    "                df_loss.plot(ax = axes[0])\n",
    "                df_accuracy.plot(ax = axes[1])\n",
    "                \n",
    "#         print(f'-------------------------------------------------------------------------')\n",
    "    "
   ]
  },
  {
   "cell_type": "code",
   "execution_count": 5,
   "id": "35573573",
   "metadata": {
    "execution": {
     "iopub.execute_input": "2022-03-24T14:00:55.481720Z",
     "iopub.status.busy": "2022-03-24T14:00:55.480170Z",
     "iopub.status.idle": "2022-03-24T14:00:55.482352Z",
     "shell.execute_reply": "2022-03-24T14:00:55.482745Z",
     "shell.execute_reply.started": "2022-03-24T13:13:52.841040Z"
    },
    "papermill": {
     "duration": 0.023448,
     "end_time": "2022-03-24T14:00:55.482856",
     "exception": false,
     "start_time": "2022-03-24T14:00:55.459408",
     "status": "completed"
    },
    "tags": []
   },
   "outputs": [],
   "source": [
    "def impute(dataset : pd.DataFrame):\n",
    "    dataset_copy = dataset.copy()\n",
    "    dataset_copy['keyword'].fillna('0', inplace=True)\n",
    "    dataset_copy['keyword'] = dataset_copy['keyword'].str.split('%20').str.join(',')\n",
    "    \n",
    "    return dataset_copy"
   ]
  },
  {
   "cell_type": "markdown",
   "id": "8be23847",
   "metadata": {
    "papermill": {
     "duration": 0.016176,
     "end_time": "2022-03-24T14:00:55.515264",
     "exception": false,
     "start_time": "2022-03-24T14:00:55.499088",
     "status": "completed"
    },
    "tags": []
   },
   "source": [
    "## Load Data"
   ]
  },
  {
   "cell_type": "code",
   "execution_count": 6,
   "id": "07445228",
   "metadata": {
    "execution": {
     "iopub.execute_input": "2022-03-24T14:00:55.554632Z",
     "iopub.status.busy": "2022-03-24T14:00:55.553841Z",
     "iopub.status.idle": "2022-03-24T14:00:55.634143Z",
     "shell.execute_reply": "2022-03-24T14:00:55.634535Z",
     "shell.execute_reply.started": "2022-03-24T13:13:52.915205Z"
    },
    "papermill": {
     "duration": 0.103058,
     "end_time": "2022-03-24T14:00:55.634686",
     "exception": false,
     "start_time": "2022-03-24T14:00:55.531628",
     "status": "completed"
    },
    "tags": []
   },
   "outputs": [],
   "source": [
    "train_data, test_data = load_data('../input/nlp-getting-started/train.csv',\n",
    "                                 '../input/nlp-getting-started/test.csv')\n",
    "\n",
    "#Filled keyword column for missing values and split values with '%20' and joined them together with ',' delimiter.\n",
    "train_data = impute(train_data) \n",
    "test_data = impute(test_data)\n",
    "\n",
    "\n",
    "#Using the train_data, split it into train and valid sets\n",
    "X_train, X_valid, y_train, y_valid = train_test_split(train_data[['text', 'keyword']],\n",
    "                                                      train_data.target,   \n",
    "                                                      train_size=0.9, \n",
    "                                                      random_state=1,\n",
    "                                                      shuffle=True)\n",
    "\n",
    "#Converted dataframe to numpy since I got errors while trying to train the model.\n",
    "y_train = y_train.to_numpy()\n",
    "y_valid = y_valid.to_numpy()\n",
    "\n",
    "train_text = X_train['text'].to_numpy()\n",
    "valid_text = X_valid['text'].to_numpy()\n",
    "test_text = test_data['text'].to_numpy()\n",
    "\n",
    "train_keyword = X_train['keyword'].to_numpy()\n",
    "valid_keyword = X_valid['keyword'].to_numpy()\n",
    "test_keyword = test_data['keyword'].to_numpy()"
   ]
  },
  {
   "cell_type": "code",
   "execution_count": 7,
   "id": "c974d781",
   "metadata": {
    "execution": {
     "iopub.execute_input": "2022-03-24T14:00:55.690575Z",
     "iopub.status.busy": "2022-03-24T14:00:55.680753Z",
     "iopub.status.idle": "2022-03-24T14:00:56.271006Z",
     "shell.execute_reply": "2022-03-24T14:00:56.270495Z",
     "shell.execute_reply.started": "2022-03-24T13:13:52.991552Z"
    },
    "papermill": {
     "duration": 0.619762,
     "end_time": "2022-03-24T14:00:56.271144",
     "exception": false,
     "start_time": "2022-03-24T14:00:55.651382",
     "status": "completed"
    },
    "tags": []
   },
   "outputs": [],
   "source": [
    "# Creates a tokenizer\n",
    "tokenizer_text = create_tokenizer(list(train_text) + list(valid_text))\n",
    "tokenizer_keyword = create_tokenizer(list(train_keyword)+ list(valid_keyword))\n",
    "# Encoded data in 'text' column in train data\n",
    "train_text_pad = encode_data(tokenizer_text, np.array(train_text), 200)\n",
    "valid_text_pad = encode_data(tokenizer_text, np.array(valid_text),200)\n",
    "test_text_pad = encode_data(tokenizer_text, np.array(test_text),200)\n",
    "\n",
    "# Encoded data in 'keyword' column in train data\n",
    "train_keyword_pad = encode_data(tokenizer_keyword, np.array(train_keyword),200)\n",
    "valid_keyword_pad = encode_data(tokenizer_keyword, np.array(valid_keyword),200)\n",
    "test_keyword_pad = encode_data(tokenizer_keyword, np.array(test_keyword),200)"
   ]
  },
  {
   "cell_type": "code",
   "execution_count": 8,
   "id": "47b003b9",
   "metadata": {
    "execution": {
     "iopub.execute_input": "2022-03-24T14:00:56.311081Z",
     "iopub.status.busy": "2022-03-24T14:00:56.310373Z",
     "iopub.status.idle": "2022-03-24T14:00:56.313734Z",
     "shell.execute_reply": "2022-03-24T14:00:56.314169Z",
     "shell.execute_reply.started": "2022-03-24T13:13:53.606696Z"
    },
    "papermill": {
     "duration": 0.026294,
     "end_time": "2022-03-24T14:00:56.314295",
     "exception": false,
     "start_time": "2022-03-24T14:00:56.288001",
     "status": "completed"
    },
    "tags": []
   },
   "outputs": [
    {
     "name": "stdout",
     "output_type": "stream",
     "text": [
      "Details\n",
      "-------\n",
      "Train-Keyword-Pad (Shape) : (6851, 200)\n",
      "Train-Text-Pad (Shape) : (6851, 200)\n",
      "-----------------------------------------------------\n",
      "Valid-Keyword-Pad (Shape) : (762, 200)\n",
      "Valid-Text-Pad (Shape) : (762, 200)\n",
      "-----------------------------------------------------\n",
      "Test-Keyword-Pad (Shape) : (3263, 200)\n",
      "Test-Text-Pad (Shape) : (3263, 200)\n"
     ]
    }
   ],
   "source": [
    "print('Details')\n",
    "print('-------')\n",
    "print(f'Train-Keyword-Pad (Shape) : {train_keyword_pad.shape}')\n",
    "print(f'Train-Text-Pad (Shape) : {train_text_pad.shape}')\n",
    "print('-----------------------------------------------------')\n",
    "print(f'Valid-Keyword-Pad (Shape) : {valid_keyword_pad.shape}')\n",
    "print(f'Valid-Text-Pad (Shape) : {valid_text_pad.shape}')\n",
    "print('-----------------------------------------------------')\n",
    "print(f'Test-Keyword-Pad (Shape) : {test_keyword_pad.shape}')\n",
    "print(f'Test-Text-Pad (Shape) : {test_text_pad.shape}')"
   ]
  },
  {
   "cell_type": "markdown",
   "id": "760ab3a7",
   "metadata": {
    "papermill": {
     "duration": 0.018324,
     "end_time": "2022-03-24T14:00:56.349640",
     "exception": false,
     "start_time": "2022-03-24T14:00:56.331316",
     "status": "completed"
    },
    "tags": []
   },
   "source": [
    "## Hypertuning Optimizers"
   ]
  },
  {
   "cell_type": "code",
   "execution_count": 9,
   "id": "db5d17f9",
   "metadata": {
    "execution": {
     "iopub.execute_input": "2022-03-24T14:00:56.388825Z",
     "iopub.status.busy": "2022-03-24T14:00:56.388219Z",
     "iopub.status.idle": "2022-03-24T14:00:56.395831Z",
     "shell.execute_reply": "2022-03-24T14:00:56.395401Z",
     "shell.execute_reply.started": "2022-03-24T13:13:53.618529Z"
    },
    "papermill": {
     "duration": 0.02953,
     "end_time": "2022-03-24T14:00:56.395933",
     "exception": false,
     "start_time": "2022-03-24T14:00:56.366403",
     "status": "completed"
    },
    "tags": []
   },
   "outputs": [],
   "source": [
    "# This area is for fine-tuning the optimizers\n",
    "\n",
    "hyperparameters = {\n",
    "                   'epsilon' : 0.1,\n",
    "                  'initial_learning_rate' : 0.1,\n",
    "                  'decay_steps' : 500,\n",
    "                  'decay_rate': 0.5\n",
    "                }\n",
    "\n",
    "learning_rate_scheduler = tf.keras.optimizers.schedules.InverseTimeDecay(\n",
    "    hyperparameters['initial_learning_rate'],\n",
    "    hyperparameters['decay_steps'],\n",
    "    hyperparameters['decay_rate'],\n",
    "    staircase=False, \n",
    "    name=None\n",
    ")\n",
    "\n",
    "\n",
    "adam = tf.keras.optimizers.Adam(\n",
    "    learning_rate=learning_rate_scheduler, \n",
    "    beta_1=0.9, \n",
    "    beta_2=0.999, \n",
    "    epsilon=hyperparameters['epsilon'], \n",
    "    name=\"Adamax\"\n",
    ")\n"
   ]
  },
  {
   "cell_type": "code",
   "execution_count": 10,
   "id": "9cb50b1c",
   "metadata": {
    "execution": {
     "iopub.execute_input": "2022-03-24T14:00:56.437369Z",
     "iopub.status.busy": "2022-03-24T14:00:56.436747Z",
     "iopub.status.idle": "2022-03-24T14:00:59.781237Z",
     "shell.execute_reply": "2022-03-24T14:00:59.780339Z",
     "shell.execute_reply.started": "2022-03-24T13:13:53.629180Z"
    },
    "papermill": {
     "duration": 3.368035,
     "end_time": "2022-03-24T14:00:59.781381",
     "exception": false,
     "start_time": "2022-03-24T14:00:56.413346",
     "status": "completed"
    },
    "tags": []
   },
   "outputs": [
    {
     "name": "stderr",
     "output_type": "stream",
     "text": [
      "2022-03-24 14:00:56.505195: I tensorflow/stream_executor/cuda/cuda_gpu_executor.cc:937] successful NUMA node read from SysFS had negative value (-1), but there must be at least one NUMA node, so returning NUMA node zero\n",
      "2022-03-24 14:00:56.602779: I tensorflow/stream_executor/cuda/cuda_gpu_executor.cc:937] successful NUMA node read from SysFS had negative value (-1), but there must be at least one NUMA node, so returning NUMA node zero\n",
      "2022-03-24 14:00:56.603475: I tensorflow/stream_executor/cuda/cuda_gpu_executor.cc:937] successful NUMA node read from SysFS had negative value (-1), but there must be at least one NUMA node, so returning NUMA node zero\n",
      "2022-03-24 14:00:56.604696: I tensorflow/core/platform/cpu_feature_guard.cc:142] This TensorFlow binary is optimized with oneAPI Deep Neural Network Library (oneDNN) to use the following CPU instructions in performance-critical operations:  AVX2 AVX512F FMA\n",
      "To enable them in other operations, rebuild TensorFlow with the appropriate compiler flags.\n",
      "2022-03-24 14:00:56.605878: I tensorflow/stream_executor/cuda/cuda_gpu_executor.cc:937] successful NUMA node read from SysFS had negative value (-1), but there must be at least one NUMA node, so returning NUMA node zero\n",
      "2022-03-24 14:00:56.606614: I tensorflow/stream_executor/cuda/cuda_gpu_executor.cc:937] successful NUMA node read from SysFS had negative value (-1), but there must be at least one NUMA node, so returning NUMA node zero\n",
      "2022-03-24 14:00:56.607270: I tensorflow/stream_executor/cuda/cuda_gpu_executor.cc:937] successful NUMA node read from SysFS had negative value (-1), but there must be at least one NUMA node, so returning NUMA node zero\n",
      "2022-03-24 14:00:58.378265: I tensorflow/stream_executor/cuda/cuda_gpu_executor.cc:937] successful NUMA node read from SysFS had negative value (-1), but there must be at least one NUMA node, so returning NUMA node zero\n",
      "2022-03-24 14:00:58.379066: I tensorflow/stream_executor/cuda/cuda_gpu_executor.cc:937] successful NUMA node read from SysFS had negative value (-1), but there must be at least one NUMA node, so returning NUMA node zero\n",
      "2022-03-24 14:00:58.379717: I tensorflow/stream_executor/cuda/cuda_gpu_executor.cc:937] successful NUMA node read from SysFS had negative value (-1), but there must be at least one NUMA node, so returning NUMA node zero\n",
      "2022-03-24 14:00:58.380302: I tensorflow/core/common_runtime/gpu/gpu_device.cc:1510] Created device /job:localhost/replica:0/task:0/device:GPU:0 with 15403 MB memory:  -> device: 0, name: Tesla P100-PCIE-16GB, pci bus id: 0000:00:04.0, compute capability: 6.0\n"
     ]
    }
   ],
   "source": [
    "input_text = tf.keras.Input( shape=(None,), name='text')\n",
    "input_keyword = tf.keras.Input(shape=(None,), name='keyword')\n",
    "\n",
    "text_feature_extraction = Embedding(len(tokenizer_text.word_index) + 1, 512) (input_text)\n",
    "X_text_lstm = layers.SpatialDropout1D(0.3)(text_feature_extraction)\n",
    "X_text_lstm = LSTM(512, dropout=0.3, return_sequences=True)(X_text_lstm)\n",
    "X_text_lstm = LSTM(512,dropout=0.3)(X_text_lstm)\n",
    "\n",
    "\n",
    "keyword_feature_extraction = Embedding(len(tokenizer_keyword.word_index) + 1, 64) (input_keyword)\n",
    "X_keyword_lstm = layers.SpatialDropout1D(0.3)(keyword_feature_extraction)\n",
    "X_keyword_lstm = LSTM(64,dropout=0.3, return_sequences=True)(X_keyword_lstm)\n",
    "X_keyword_lstm = LSTM(64,dropout=0.3)(X_keyword_lstm)\n",
    "\n",
    "X = layers.concatenate([X_text_lstm, X_keyword_lstm])\n",
    "outputs = layers.Dense(1, activation='sigmoid')(X)\n",
    "\n",
    "model = Model(inputs=[input_text, input_keyword], outputs =outputs )"
   ]
  },
  {
   "cell_type": "code",
   "execution_count": 11,
   "id": "d83aa0af",
   "metadata": {
    "execution": {
     "iopub.execute_input": "2022-03-24T14:00:59.828275Z",
     "iopub.status.busy": "2022-03-24T14:00:59.827455Z",
     "iopub.status.idle": "2022-03-24T14:00:59.833500Z",
     "shell.execute_reply": "2022-03-24T14:00:59.834068Z",
     "shell.execute_reply.started": "2022-03-24T13:13:54.642532Z"
    },
    "papermill": {
     "duration": 0.031435,
     "end_time": "2022-03-24T14:00:59.834253",
     "exception": false,
     "start_time": "2022-03-24T14:00:59.802818",
     "status": "completed"
    },
    "tags": []
   },
   "outputs": [
    {
     "name": "stdout",
     "output_type": "stream",
     "text": [
      "Model: \"model\"\n",
      "__________________________________________________________________________________________________\n",
      "Layer (type)                    Output Shape         Param #     Connected to                     \n",
      "==================================================================================================\n",
      "text (InputLayer)               [(None, None)]       0                                            \n",
      "__________________________________________________________________________________________________\n",
      "keyword (InputLayer)            [(None, None)]       0                                            \n",
      "__________________________________________________________________________________________________\n",
      "embedding (Embedding)           (None, None, 512)    11622912    text[0][0]                       \n",
      "__________________________________________________________________________________________________\n",
      "embedding_1 (Embedding)         (None, None, 64)     14784       keyword[0][0]                    \n",
      "__________________________________________________________________________________________________\n",
      "spatial_dropout1d (SpatialDropo (None, None, 512)    0           embedding[0][0]                  \n",
      "__________________________________________________________________________________________________\n",
      "spatial_dropout1d_1 (SpatialDro (None, None, 64)     0           embedding_1[0][0]                \n",
      "__________________________________________________________________________________________________\n",
      "lstm (LSTM)                     (None, None, 512)    2099200     spatial_dropout1d[0][0]          \n",
      "__________________________________________________________________________________________________\n",
      "lstm_2 (LSTM)                   (None, None, 64)     33024       spatial_dropout1d_1[0][0]        \n",
      "__________________________________________________________________________________________________\n",
      "lstm_1 (LSTM)                   (None, 512)          2099200     lstm[0][0]                       \n",
      "__________________________________________________________________________________________________\n",
      "lstm_3 (LSTM)                   (None, 64)           33024       lstm_2[0][0]                     \n",
      "__________________________________________________________________________________________________\n",
      "concatenate (Concatenate)       (None, 576)          0           lstm_1[0][0]                     \n",
      "                                                                 lstm_3[0][0]                     \n",
      "__________________________________________________________________________________________________\n",
      "dense (Dense)                   (None, 1)            577         concatenate[0][0]                \n",
      "==================================================================================================\n",
      "Total params: 15,902,721\n",
      "Trainable params: 15,902,721\n",
      "Non-trainable params: 0\n",
      "__________________________________________________________________________________________________\n"
     ]
    }
   ],
   "source": [
    "model.summary()"
   ]
  },
  {
   "cell_type": "code",
   "execution_count": 12,
   "id": "c2094977",
   "metadata": {
    "execution": {
     "iopub.execute_input": "2022-03-24T14:00:59.875373Z",
     "iopub.status.busy": "2022-03-24T14:00:59.874668Z",
     "iopub.status.idle": "2022-03-24T14:01:00.687619Z",
     "shell.execute_reply": "2022-03-24T14:01:00.688032Z",
     "shell.execute_reply.started": "2022-03-24T13:13:54.657785Z"
    },
    "papermill": {
     "duration": 0.836047,
     "end_time": "2022-03-24T14:01:00.688185",
     "exception": false,
     "start_time": "2022-03-24T14:00:59.852138",
     "status": "completed"
    },
    "tags": []
   },
   "outputs": [
    {
     "data": {
      "image/png": "[encoded data removed]",
      "text/plain": [
       "<IPython.core.display.Image object>"
      ]
     },
     "execution_count": 12,
     "metadata": {},
     "output_type": "execute_result"
    }
   ],
   "source": [
    "tf.keras.utils.plot_model(model, show_shapes=True)"
   ]
  },
  {
   "cell_type": "markdown",
   "id": "8686436a",
   "metadata": {
    "papermill": {
     "duration": 0.019163,
     "end_time": "2022-03-24T14:01:00.726918",
     "exception": false,
     "start_time": "2022-03-24T14:01:00.707755",
     "status": "completed"
    },
    "tags": []
   },
   "source": [
    "## Model used for Submission"
   ]
  },
  {
   "cell_type": "code",
   "execution_count": 13,
   "id": "9bde74ae",
   "metadata": {
    "execution": {
     "iopub.execute_input": "2022-03-24T14:01:00.970222Z",
     "iopub.status.busy": "2022-03-24T14:01:00.963032Z",
     "iopub.status.idle": "2022-03-24T14:05:22.626956Z",
     "shell.execute_reply": "2022-03-24T14:05:22.626509Z",
     "shell.execute_reply.started": "2022-03-24T13:13:54.847949Z"
    },
    "papermill": {
     "duration": 261.880313,
     "end_time": "2022-03-24T14:05:22.627121",
     "exception": false,
     "start_time": "2022-03-24T14:01:00.746808",
     "status": "completed"
    },
    "tags": []
   },
   "outputs": [
    {
     "name": "stderr",
     "output_type": "stream",
     "text": [
      "2022-03-24 14:01:01.026587: I tensorflow/compiler/mlir/mlir_graph_optimization_pass.cc:185] None of the MLIR Optimization Passes are enabled (registered 2)\n"
     ]
    },
    {
     "name": "stdout",
     "output_type": "stream",
     "text": [
      "Epoch 1/300\n"
     ]
    },
    {
     "name": "stderr",
     "output_type": "stream",
     "text": [
      "2022-03-24 14:01:07.070556: I tensorflow/stream_executor/cuda/cuda_dnn.cc:369] Loaded cuDNN version 8005\n"
     ]
    },
    {
     "name": "stdout",
     "output_type": "stream",
     "text": [
      "215/215 [==============================] - 29s 104ms/step - loss: 0.6715 - accuracy: 0.5806 - f1: 0.1718 - val_loss: 0.6729 - val_accuracy: 0.5748 - val_f1: 0.0000e+00\n",
      "Epoch 2/300\n",
      "215/215 [==============================] - 21s 98ms/step - loss: 0.6429 - accuracy: 0.6274 - f1: 0.4674 - val_loss: 0.6254 - val_accuracy: 0.6654 - val_f1: 0.6001\n",
      "Epoch 3/300\n",
      "215/215 [==============================] - 21s 98ms/step - loss: 0.5910 - accuracy: 0.6900 - f1: 0.5969 - val_loss: 0.5616 - val_accuracy: 0.7231 - val_f1: 0.5738\n",
      "Epoch 4/300\n",
      "215/215 [==============================] - 21s 98ms/step - loss: 0.5383 - accuracy: 0.7405 - f1: 0.6455 - val_loss: 0.5491 - val_accuracy: 0.7520 - val_f1: 0.6647\n",
      "Epoch 5/300\n",
      "215/215 [==============================] - 21s 98ms/step - loss: 0.4554 - accuracy: 0.7981 - f1: 0.7304 - val_loss: 0.4932 - val_accuracy: 0.7769 - val_f1: 0.7104\n",
      "Epoch 6/300\n",
      "215/215 [==============================] - 21s 99ms/step - loss: 0.3858 - accuracy: 0.8370 - f1: 0.7816 - val_loss: 0.5174 - val_accuracy: 0.7572 - val_f1: 0.6329\n",
      "Epoch 7/300\n",
      "215/215 [==============================] - 21s 98ms/step - loss: 0.3513 - accuracy: 0.8542 - f1: 0.8126 - val_loss: 0.4798 - val_accuracy: 0.8005 - val_f1: 0.7365\n",
      "Epoch 8/300\n",
      "215/215 [==============================] - 21s 98ms/step - loss: 0.3132 - accuracy: 0.8749 - f1: 0.8387 - val_loss: 0.6793 - val_accuracy: 0.7270 - val_f1: 0.7107\n",
      "Epoch 9/300\n",
      "215/215 [==============================] - 21s 98ms/step - loss: 0.2805 - accuracy: 0.8898 - f1: 0.8616 - val_loss: 0.5210 - val_accuracy: 0.7730 - val_f1: 0.6714\n",
      "Epoch 10/300\n",
      "215/215 [==============================] - 21s 98ms/step - loss: 0.2444 - accuracy: 0.9061 - f1: 0.8807 - val_loss: 0.5850 - val_accuracy: 0.7822 - val_f1: 0.7052\n",
      "Epoch 11/300\n",
      "215/215 [==============================] - 21s 98ms/step - loss: 0.2177 - accuracy: 0.9212 - f1: 0.9032 - val_loss: 0.5948 - val_accuracy: 0.7598 - val_f1: 0.6637\n",
      "Epoch 12/300\n",
      "215/215 [==============================] - 21s 98ms/step - loss: 0.1976 - accuracy: 0.9296 - f1: 0.9131 - val_loss: 0.6340 - val_accuracy: 0.7743 - val_f1: 0.7251\n"
     ]
    }
   ],
   "source": [
    "model.compile(optimizer=adam, loss='binary_crossentropy', \n",
    "                  metrics=['accuracy', f1]\n",
    "                 )\n",
    "\n",
    "callback = EarlyStopping(monitor='val_loss', patience=5, restore_best_weights=True)\n",
    "\n",
    "    \n",
    "history = model.fit((train_text_pad, train_keyword_pad), y_train, \n",
    "                  validation_data=((valid_text_pad, valid_keyword_pad), y_valid),\n",
    "                 callbacks=callback,\n",
    "                epochs=300, \n",
    "                batch_size=32\n",
    "                )"
   ]
  },
  {
   "cell_type": "code",
   "execution_count": 14,
   "id": "0c5f865c",
   "metadata": {
    "execution": {
     "iopub.execute_input": "2022-03-24T14:05:24.251186Z",
     "iopub.status.busy": "2022-03-24T14:05:24.250367Z",
     "iopub.status.idle": "2022-03-24T14:05:30.404421Z",
     "shell.execute_reply": "2022-03-24T14:05:30.403682Z",
     "shell.execute_reply.started": "2022-03-24T13:19:04.566358Z"
    },
    "papermill": {
     "duration": 6.969208,
     "end_time": "2022-03-24T14:05:30.404559",
     "exception": false,
     "start_time": "2022-03-24T14:05:23.435351",
     "status": "completed"
    },
    "tags": []
   },
   "outputs": [
    {
     "data": {
      "text/plain": [
       "0.7388316151202748"
      ]
     },
     "execution_count": 14,
     "metadata": {},
     "output_type": "execute_result"
    }
   ],
   "source": [
    "probabilities = model.predict((valid_text_pad, valid_keyword_pad))\n",
    "predictions = convert_probabilities_to_predictions(probabilities)\n",
    "\n",
    "score = f1_score(y_valid, predictions)\n",
    "score"
   ]
  },
  {
   "cell_type": "code",
   "execution_count": 15,
   "id": "a7ed4e04",
   "metadata": {
    "execution": {
     "iopub.execute_input": "2022-03-24T14:05:32.108981Z",
     "iopub.status.busy": "2022-03-24T14:05:32.108084Z",
     "iopub.status.idle": "2022-03-24T14:05:37.267853Z",
     "shell.execute_reply": "2022-03-24T14:05:37.267403Z",
     "shell.execute_reply.started": "2022-03-24T13:19:08.063922Z"
    },
    "papermill": {
     "duration": 6.033573,
     "end_time": "2022-03-24T14:05:37.268002",
     "exception": false,
     "start_time": "2022-03-24T14:05:31.234429",
     "status": "completed"
    },
    "tags": []
   },
   "outputs": [
    {
     "data": {
      "text/html": [
       "<div>\n",
       "<style scoped>\n",
       "    .dataframe tbody tr th:only-of-type {\n",
       "        vertical-align: middle;\n",
       "    }\n",
       "\n",
       "    .dataframe tbody tr th {\n",
       "        vertical-align: top;\n",
       "    }\n",
       "\n",
       "    .dataframe thead th {\n",
       "        text-align: right;\n",
       "    }\n",
       "</style>\n",
       "<table border=\"1\" class=\"dataframe\">\n",
       "  <thead>\n",
       "    <tr style=\"text-align: right;\">\n",
       "      <th></th>\n",
       "      <th>id</th>\n",
       "      <th>target</th>\n",
       "    </tr>\n",
       "  </thead>\n",
       "  <tbody>\n",
       "    <tr>\n",
       "      <th>0</th>\n",
       "      <td>0</td>\n",
       "      <td>0</td>\n",
       "    </tr>\n",
       "    <tr>\n",
       "      <th>1</th>\n",
       "      <td>2</td>\n",
       "      <td>1</td>\n",
       "    </tr>\n",
       "    <tr>\n",
       "      <th>2</th>\n",
       "      <td>3</td>\n",
       "      <td>1</td>\n",
       "    </tr>\n",
       "    <tr>\n",
       "      <th>3</th>\n",
       "      <td>9</td>\n",
       "      <td>0</td>\n",
       "    </tr>\n",
       "    <tr>\n",
       "      <th>4</th>\n",
       "      <td>11</td>\n",
       "      <td>1</td>\n",
       "    </tr>\n",
       "    <tr>\n",
       "      <th>...</th>\n",
       "      <td>...</td>\n",
       "      <td>...</td>\n",
       "    </tr>\n",
       "    <tr>\n",
       "      <th>3258</th>\n",
       "      <td>10861</td>\n",
       "      <td>0</td>\n",
       "    </tr>\n",
       "    <tr>\n",
       "      <th>3259</th>\n",
       "      <td>10865</td>\n",
       "      <td>1</td>\n",
       "    </tr>\n",
       "    <tr>\n",
       "      <th>3260</th>\n",
       "      <td>10868</td>\n",
       "      <td>1</td>\n",
       "    </tr>\n",
       "    <tr>\n",
       "      <th>3261</th>\n",
       "      <td>10874</td>\n",
       "      <td>1</td>\n",
       "    </tr>\n",
       "    <tr>\n",
       "      <th>3262</th>\n",
       "      <td>10875</td>\n",
       "      <td>0</td>\n",
       "    </tr>\n",
       "  </tbody>\n",
       "</table>\n",
       "<p>3263 rows × 2 columns</p>\n",
       "</div>"
      ],
      "text/plain": [
       "         id  target\n",
       "0         0       0\n",
       "1         2       1\n",
       "2         3       1\n",
       "3         9       0\n",
       "4        11       1\n",
       "...     ...     ...\n",
       "3258  10861       0\n",
       "3259  10865       1\n",
       "3260  10868       1\n",
       "3261  10874       1\n",
       "3262  10875       0\n",
       "\n",
       "[3263 rows x 2 columns]"
      ]
     },
     "execution_count": 15,
     "metadata": {},
     "output_type": "execute_result"
    }
   ],
   "source": [
    "submission = pd.DataFrame()\n",
    "submission['id'] = test_data['id']\n",
    "\n",
    "probabilities = model.predict((test_text_pad, test_keyword_pad))\n",
    "predictions = convert_probabilities_to_predictions(probabilities)\n",
    "\n",
    "submission['target'] = predictions\n",
    "submission['target'] = submission['target'].astype(int)\n",
    "\n",
    "submission"
   ]
  },
  {
   "cell_type": "code",
   "execution_count": 16,
   "id": "97420323",
   "metadata": {
    "execution": {
     "iopub.execute_input": "2022-03-24T14:05:39.153190Z",
     "iopub.status.busy": "2022-03-24T14:05:39.152183Z",
     "iopub.status.idle": "2022-03-24T14:05:39.161786Z",
     "shell.execute_reply": "2022-03-24T14:05:39.162264Z",
     "shell.execute_reply.started": "2022-03-24T13:19:11.400405Z"
    },
    "papermill": {
     "duration": 1.074425,
     "end_time": "2022-03-24T14:05:39.162422",
     "exception": false,
     "start_time": "2022-03-24T14:05:38.087997",
     "status": "completed"
    },
    "tags": []
   },
   "outputs": [],
   "source": [
    "submission.to_csv('submission.csv', index=False)"
   ]
  },
  {
   "cell_type": "code",
   "execution_count": 17,
   "id": "5cd9fb5f",
   "metadata": {
    "execution": {
     "iopub.execute_input": "2022-03-24T14:05:40.996025Z",
     "iopub.status.busy": "2022-03-24T14:05:40.995226Z",
     "iopub.status.idle": "2022-03-24T14:05:41.005865Z",
     "shell.execute_reply": "2022-03-24T14:05:41.005436Z",
     "shell.execute_reply.started": "2022-03-24T13:19:11.423958Z"
    },
    "papermill": {
     "duration": 0.944874,
     "end_time": "2022-03-24T14:05:41.006000",
     "exception": false,
     "start_time": "2022-03-24T14:05:40.061126",
     "status": "completed"
    },
    "tags": []
   },
   "outputs": [
    {
     "data": {
      "text/html": [
       "<div>\n",
       "<style scoped>\n",
       "    .dataframe tbody tr th:only-of-type {\n",
       "        vertical-align: middle;\n",
       "    }\n",
       "\n",
       "    .dataframe tbody tr th {\n",
       "        vertical-align: top;\n",
       "    }\n",
       "\n",
       "    .dataframe thead th {\n",
       "        text-align: right;\n",
       "    }\n",
       "</style>\n",
       "<table border=\"1\" class=\"dataframe\">\n",
       "  <thead>\n",
       "    <tr style=\"text-align: right;\">\n",
       "      <th></th>\n",
       "      <th>id</th>\n",
       "      <th>target</th>\n",
       "    </tr>\n",
       "  </thead>\n",
       "  <tbody>\n",
       "    <tr>\n",
       "      <th>0</th>\n",
       "      <td>0</td>\n",
       "      <td>0</td>\n",
       "    </tr>\n",
       "    <tr>\n",
       "      <th>1</th>\n",
       "      <td>2</td>\n",
       "      <td>1</td>\n",
       "    </tr>\n",
       "    <tr>\n",
       "      <th>2</th>\n",
       "      <td>3</td>\n",
       "      <td>1</td>\n",
       "    </tr>\n",
       "    <tr>\n",
       "      <th>3</th>\n",
       "      <td>9</td>\n",
       "      <td>0</td>\n",
       "    </tr>\n",
       "    <tr>\n",
       "      <th>4</th>\n",
       "      <td>11</td>\n",
       "      <td>1</td>\n",
       "    </tr>\n",
       "    <tr>\n",
       "      <th>...</th>\n",
       "      <td>...</td>\n",
       "      <td>...</td>\n",
       "    </tr>\n",
       "    <tr>\n",
       "      <th>3258</th>\n",
       "      <td>10861</td>\n",
       "      <td>0</td>\n",
       "    </tr>\n",
       "    <tr>\n",
       "      <th>3259</th>\n",
       "      <td>10865</td>\n",
       "      <td>1</td>\n",
       "    </tr>\n",
       "    <tr>\n",
       "      <th>3260</th>\n",
       "      <td>10868</td>\n",
       "      <td>1</td>\n",
       "    </tr>\n",
       "    <tr>\n",
       "      <th>3261</th>\n",
       "      <td>10874</td>\n",
       "      <td>1</td>\n",
       "    </tr>\n",
       "    <tr>\n",
       "      <th>3262</th>\n",
       "      <td>10875</td>\n",
       "      <td>0</td>\n",
       "    </tr>\n",
       "  </tbody>\n",
       "</table>\n",
       "<p>3263 rows × 2 columns</p>\n",
       "</div>"
      ],
      "text/plain": [
       "         id  target\n",
       "0         0       0\n",
       "1         2       1\n",
       "2         3       1\n",
       "3         9       0\n",
       "4        11       1\n",
       "...     ...     ...\n",
       "3258  10861       0\n",
       "3259  10865       1\n",
       "3260  10868       1\n",
       "3261  10874       1\n",
       "3262  10875       0\n",
       "\n",
       "[3263 rows x 2 columns]"
      ]
     },
     "execution_count": 17,
     "metadata": {},
     "output_type": "execute_result"
    }
   ],
   "source": [
    "s = pd.read_csv('submission.csv')\n",
    "s"
   ]
  }
 ],
 "metadata": {
  "kernelspec": {
   "display_name": "Python 3",
   "language": "python",
   "name": "python3"
  },
  "language_info": {
   "codemirror_mode": {
    "name": "ipython",
    "version": 3
   },
   "file_extension": ".py",
   "mimetype": "text/x-python",
   "name": "python",
   "nbconvert_exporter": "python",
   "pygments_lexer": "ipython3",
   "version": "3.7.12"
  },
  "papermill": {
   "default_parameters": {},
   "duration": 303.650949,
   "end_time": "2022-03-24T14:05:45.218570",
   "environment_variables": {},
   "exception": null,
   "input_path": "__notebook__.ipynb",
   "output_path": "__notebook__.ipynb",
   "parameters": {},
   "start_time": "2022-03-24T14:00:41.567621",
   "version": "2.3.3"
  }
 },
 "nbformat": 4,
 "nbformat_minor": 5
}
