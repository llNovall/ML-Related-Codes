{
 "cells": [
  {
   "cell_type": "code",
   "execution_count": 1,
   "id": "5818e4be",
   "metadata": {
    "_cell_guid": "b1076dfc-b9ad-4769-8c92-a6c4dae69d19",
    "_uuid": "8f2839f25d086af736a60e9eeb907d3b93b6e0e5",
    "execution": {
     "iopub.execute_input": "2022-04-30T19:27:01.547534Z",
     "iopub.status.busy": "2022-04-30T19:27:01.546769Z",
     "iopub.status.idle": "2022-04-30T19:27:01.559953Z",
     "shell.execute_reply": "2022-04-30T19:27:01.559198Z"
    },
    "papermill": {
     "duration": 0.033326,
     "end_time": "2022-04-30T19:27:01.562437",
     "exception": false,
     "start_time": "2022-04-30T19:27:01.529111",
     "status": "completed"
    },
    "tags": []
   },
   "outputs": [],
   "source": [
    "import numpy as np \n",
    "import pandas as pd\n",
    "import tqdm\n",
    "from collections import defaultdict"
   ]
  },
  {
   "cell_type": "code",
   "execution_count": 2,
   "id": "1df257cc",
   "metadata": {
    "execution": {
     "iopub.execute_input": "2022-04-30T19:27:01.594349Z",
     "iopub.status.busy": "2022-04-30T19:27:01.593736Z",
     "iopub.status.idle": "2022-04-30T19:27:01.598391Z",
     "shell.execute_reply": "2022-04-30T19:27:01.597451Z"
    },
    "papermill": {
     "duration": 0.022915,
     "end_time": "2022-04-30T19:27:01.600546",
     "exception": false,
     "start_time": "2022-04-30T19:27:01.577631",
     "status": "completed"
    },
    "tags": []
   },
   "outputs": [],
   "source": [
    "TRAIN_SIZE = 0.8"
   ]
  },
  {
   "cell_type": "code",
   "execution_count": 3,
   "id": "b8b022f5",
   "metadata": {
    "execution": {
     "iopub.execute_input": "2022-04-30T19:27:01.631840Z",
     "iopub.status.busy": "2022-04-30T19:27:01.631531Z",
     "iopub.status.idle": "2022-04-30T19:27:02.436674Z",
     "shell.execute_reply": "2022-04-30T19:27:02.435770Z"
    },
    "papermill": {
     "duration": 0.823617,
     "end_time": "2022-04-30T19:27:02.439070",
     "exception": false,
     "start_time": "2022-04-30T19:27:01.615453",
     "status": "completed"
    },
    "tags": []
   },
   "outputs": [],
   "source": [
    "train_data = pd.read_csv('../input/name-entity-recognition-ner-dataset/NER dataset.csv', encoding = 'unicode_escape')"
   ]
  },
  {
   "cell_type": "code",
   "execution_count": 4,
   "id": "a0421996",
   "metadata": {
    "execution": {
     "iopub.execute_input": "2022-04-30T19:27:02.470115Z",
     "iopub.status.busy": "2022-04-30T19:27:02.469800Z",
     "iopub.status.idle": "2022-04-30T19:27:02.552247Z",
     "shell.execute_reply": "2022-04-30T19:27:02.551402Z"
    },
    "papermill": {
     "duration": 0.101148,
     "end_time": "2022-04-30T19:27:02.555106",
     "exception": false,
     "start_time": "2022-04-30T19:27:02.453958",
     "status": "completed"
    },
    "tags": []
   },
   "outputs": [
    {
     "data": {
      "text/html": [
       "<div>\n",
       "<style scoped>\n",
       "    .dataframe tbody tr th:only-of-type {\n",
       "        vertical-align: middle;\n",
       "    }\n",
       "\n",
       "    .dataframe tbody tr th {\n",
       "        vertical-align: top;\n",
       "    }\n",
       "\n",
       "    .dataframe thead th {\n",
       "        text-align: right;\n",
       "    }\n",
       "</style>\n",
       "<table border=\"1\" class=\"dataframe\">\n",
       "  <thead>\n",
       "    <tr style=\"text-align: right;\">\n",
       "      <th></th>\n",
       "      <th>Sentence #</th>\n",
       "      <th>Word</th>\n",
       "      <th>POS</th>\n",
       "      <th>Tag</th>\n",
       "    </tr>\n",
       "  </thead>\n",
       "  <tbody>\n",
       "    <tr>\n",
       "      <th>0</th>\n",
       "      <td>Sentence: 1</td>\n",
       "      <td>Thousands</td>\n",
       "      <td>NNS</td>\n",
       "      <td>O</td>\n",
       "    </tr>\n",
       "    <tr>\n",
       "      <th>1</th>\n",
       "      <td>Sentence: 1</td>\n",
       "      <td>of</td>\n",
       "      <td>IN</td>\n",
       "      <td>O</td>\n",
       "    </tr>\n",
       "    <tr>\n",
       "      <th>2</th>\n",
       "      <td>Sentence: 1</td>\n",
       "      <td>demonstrators</td>\n",
       "      <td>NNS</td>\n",
       "      <td>O</td>\n",
       "    </tr>\n",
       "    <tr>\n",
       "      <th>3</th>\n",
       "      <td>Sentence: 1</td>\n",
       "      <td>have</td>\n",
       "      <td>VBP</td>\n",
       "      <td>O</td>\n",
       "    </tr>\n",
       "    <tr>\n",
       "      <th>4</th>\n",
       "      <td>Sentence: 1</td>\n",
       "      <td>marched</td>\n",
       "      <td>VBN</td>\n",
       "      <td>O</td>\n",
       "    </tr>\n",
       "  </tbody>\n",
       "</table>\n",
       "</div>"
      ],
      "text/plain": [
       "    Sentence #           Word  POS Tag\n",
       "0  Sentence: 1      Thousands  NNS   O\n",
       "1  Sentence: 1             of   IN   O\n",
       "2  Sentence: 1  demonstrators  NNS   O\n",
       "3  Sentence: 1           have  VBP   O\n",
       "4  Sentence: 1        marched  VBN   O"
      ]
     },
     "execution_count": 4,
     "metadata": {},
     "output_type": "execute_result"
    }
   ],
   "source": [
    "train_data['Sentence #'].ffill(inplace=True)\n",
    "train_data.head()"
   ]
  },
  {
   "cell_type": "code",
   "execution_count": 5,
   "id": "03da1161",
   "metadata": {
    "execution": {
     "iopub.execute_input": "2022-04-30T19:27:02.587727Z",
     "iopub.status.busy": "2022-04-30T19:27:02.586913Z",
     "iopub.status.idle": "2022-04-30T19:27:02.595429Z",
     "shell.execute_reply": "2022-04-30T19:27:02.594397Z"
    },
    "papermill": {
     "duration": 0.027096,
     "end_time": "2022-04-30T19:27:02.597631",
     "exception": false,
     "start_time": "2022-04-30T19:27:02.570535",
     "status": "completed"
    },
    "tags": []
   },
   "outputs": [],
   "source": [
    "def get_list_from_data(col_name, data):\n",
    "    return data.groupby('Sentence #')[col_name].apply(list)\n",
    "\n",
    "def split_train_test_data(d_list):\n",
    "    train_size = int(TRAIN_SIZE * len(d_list))\n",
    "    return d_list[:train_size].to_list(), d_list[train_size:].to_list()\n",
    "def create_vocab(corpus):\n",
    "    vocab_dict = {}\n",
    "    vocab = []\n",
    "    vocab_freq = {}\n",
    "    \n",
    "    for i in corpus:\n",
    "        vocab.extend(i)\n",
    "        \n",
    "    for word in sorted(vocab):\n",
    "        vocab_freq[word] = vocab_freq.get(word,0) + 1\n",
    "        \n",
    "    for i, word in enumerate(vocab_freq):\n",
    "        if vocab_freq[word] > 1:\n",
    "            vocab_dict[word] = i\n",
    "    \n",
    "    return vocab_dict"
   ]
  },
  {
   "cell_type": "code",
   "execution_count": 6,
   "id": "bbb204cc",
   "metadata": {
    "execution": {
     "iopub.execute_input": "2022-04-30T19:27:02.629645Z",
     "iopub.status.busy": "2022-04-30T19:27:02.629383Z",
     "iopub.status.idle": "2022-04-30T19:27:02.644275Z",
     "shell.execute_reply": "2022-04-30T19:27:02.643482Z"
    },
    "papermill": {
     "duration": 0.03323,
     "end_time": "2022-04-30T19:27:02.646072",
     "exception": false,
     "start_time": "2022-04-30T19:27:02.612842",
     "status": "completed"
    },
    "tags": []
   },
   "outputs": [],
   "source": [
    "def combine_lists(list_of_lists):\n",
    "    c_list = []\n",
    "    for i in list_of_lists:\n",
    "        c_list.extend(i)\n",
    "    return c_list\n",
    "\n",
    "def create_corpus(word_l_array,pos_l_array):\n",
    "\n",
    "    corpus = []\n",
    "    \n",
    "    for idx_sentence in range(len(word_l_array)):\n",
    "        \n",
    "        sentence = word_l_array[idx_sentence]\n",
    "        pos_list = pos_l_array[idx_sentence]\n",
    "        word_pos_l = []\n",
    "        for idx_word in range(len(sentence)):\n",
    "            word_pos_l.append((sentence[idx_word], pos_list[idx_word]))\n",
    "            \n",
    "        corpus.append(word_pos_l)\n",
    "        \n",
    "    return corpus\n",
    "\n",
    "def create_transition_emission_tag_counts(corpus, vocab):\n",
    "    \n",
    "    transition_dict = defaultdict(int)\n",
    "    emission_dict = defaultdict(int)\n",
    "    tag_dict = defaultdict(int)\n",
    "\n",
    "    for tagged_sentence in tqdm.tqdm_notebook(corpus, total = len(corpus)):\n",
    "        \n",
    "        prev_tag = '-start-'\n",
    "        \n",
    "        for word_tag in tagged_sentence:\n",
    "            word, tag = word_tag\n",
    "        \n",
    "            transition_dict[(prev_tag, tag)] += 1\n",
    "            emission_dict[(tag,word)] += 1\n",
    "        \n",
    "            tag_dict[tag] += 1\n",
    "        \n",
    "            prev_tag = tag\n",
    "        \n",
    "    return transition_dict, emission_dict, tag_dict\n",
    "\n",
    "def get_accuracy(corpus, emission_counts, vocab, states):\n",
    "    \n",
    "    num_correct = 0\n",
    "    total = 0\n",
    "    for tagged_sentence in tqdm.tqdm_notebook(corpus, total=len(corpus)):\n",
    "        total += len(tagged_sentence)\n",
    "        \n",
    "        for word_tag in tagged_sentence:\n",
    "            word, tag = word_tag\n",
    "            \n",
    "            highest_freq = 1\n",
    "            found_pos = ''\n",
    "            \n",
    "            if word in vocab:\n",
    "                for state in states:\n",
    "                    key = (state, word)\n",
    "                    \n",
    "                    freq = emission_counts[key]\n",
    "            \n",
    "                    if freq > highest_freq:\n",
    "                        highest_freq = freq\n",
    "                        found_pos = state\n",
    "                        \n",
    "                if found_pos == tag:\n",
    "                    num_correct+=1\n",
    "   \n",
    "    print(f'Correctly Predicted : {num_correct}, Total Predictions :{total}')\n",
    "    return num_correct / total\n",
    "            "
   ]
  },
  {
   "cell_type": "code",
   "execution_count": 7,
   "id": "d572cc0a",
   "metadata": {
    "execution": {
     "iopub.execute_input": "2022-04-30T19:27:02.678362Z",
     "iopub.status.busy": "2022-04-30T19:27:02.677932Z",
     "iopub.status.idle": "2022-04-30T19:27:05.370213Z",
     "shell.execute_reply": "2022-04-30T19:27:05.369357Z"
    },
    "papermill": {
     "duration": 2.711192,
     "end_time": "2022-04-30T19:27:05.372580",
     "exception": false,
     "start_time": "2022-04-30T19:27:02.661388",
     "status": "completed"
    },
    "tags": []
   },
   "outputs": [],
   "source": [
    "word_l_array = get_list_from_data('Word', train_data)\n",
    "pos_l_array = get_list_from_data('POS', train_data)\n",
    "\n",
    "train_wl, test_wl = split_train_test_data(word_l_array)\n",
    "train_pos, test_pos = split_train_test_data(pos_l_array)"
   ]
  },
  {
   "cell_type": "code",
   "execution_count": 8,
   "id": "1aa1fc58",
   "metadata": {
    "execution": {
     "iopub.execute_input": "2022-04-30T19:27:05.403923Z",
     "iopub.status.busy": "2022-04-30T19:27:05.403632Z",
     "iopub.status.idle": "2022-04-30T19:27:06.013008Z",
     "shell.execute_reply": "2022-04-30T19:27:06.012152Z"
    },
    "papermill": {
     "duration": 0.627557,
     "end_time": "2022-04-30T19:27:06.015188",
     "exception": false,
     "start_time": "2022-04-30T19:27:05.387631",
     "status": "completed"
    },
    "tags": []
   },
   "outputs": [],
   "source": [
    "vocab = create_vocab(train_wl)"
   ]
  },
  {
   "cell_type": "code",
   "execution_count": 9,
   "id": "a813c7b9",
   "metadata": {
    "execution": {
     "iopub.execute_input": "2022-04-30T19:27:06.046929Z",
     "iopub.status.busy": "2022-04-30T19:27:06.046603Z",
     "iopub.status.idle": "2022-04-30T19:27:06.579800Z",
     "shell.execute_reply": "2022-04-30T19:27:06.578886Z"
    },
    "papermill": {
     "duration": 0.552193,
     "end_time": "2022-04-30T19:27:06.582380",
     "exception": false,
     "start_time": "2022-04-30T19:27:06.030187",
     "status": "completed"
    },
    "tags": []
   },
   "outputs": [],
   "source": [
    "train_corpus = create_corpus(train_wl, train_pos)\n",
    "test_corpus = create_corpus(test_wl, test_pos)"
   ]
  },
  {
   "cell_type": "code",
   "execution_count": 10,
   "id": "f0b0246a",
   "metadata": {
    "execution": {
     "iopub.execute_input": "2022-04-30T19:27:06.616004Z",
     "iopub.status.busy": "2022-04-30T19:27:06.615132Z",
     "iopub.status.idle": "2022-04-30T19:27:07.743881Z",
     "shell.execute_reply": "2022-04-30T19:27:07.742828Z"
    },
    "papermill": {
     "duration": 1.148128,
     "end_time": "2022-04-30T19:27:07.746367",
     "exception": false,
     "start_time": "2022-04-30T19:27:06.598239",
     "status": "completed"
    },
    "tags": []
   },
   "outputs": [
    {
     "name": "stderr",
     "output_type": "stream",
     "text": [
      "/opt/conda/lib/python3.7/site-packages/ipykernel_launcher.py:29: TqdmDeprecationWarning: This function will be removed in tqdm==5.0.0\n",
      "Please use `tqdm.notebook.tqdm` instead of `tqdm.tqdm_notebook`\n"
     ]
    },
    {
     "data": {
      "application/vnd.jupyter.widget-view+json": {
       "model_id": "33a6dd2e3d2f487a82c6480c403260f9",
       "version_major": 2,
       "version_minor": 0
      },
      "text/plain": [
       "  0%|          | 0/38367 [00:00<?, ?it/s]"
      ]
     },
     "metadata": {},
     "output_type": "display_data"
    }
   ],
   "source": [
    "transition_counts, emission_counts, tag_counts = create_transition_emission_tag_counts(train_corpus, vocab)"
   ]
  },
  {
   "cell_type": "code",
   "execution_count": 11,
   "id": "9d29e411",
   "metadata": {
    "execution": {
     "iopub.execute_input": "2022-04-30T19:27:07.780008Z",
     "iopub.status.busy": "2022-04-30T19:27:07.779411Z",
     "iopub.status.idle": "2022-04-30T19:27:07.783640Z",
     "shell.execute_reply": "2022-04-30T19:27:07.782815Z"
    },
    "papermill": {
     "duration": 0.023191,
     "end_time": "2022-04-30T19:27:07.785613",
     "exception": false,
     "start_time": "2022-04-30T19:27:07.762422",
     "status": "completed"
    },
    "tags": []
   },
   "outputs": [],
   "source": [
    "states = sorted(tag_counts.keys())"
   ]
  },
  {
   "cell_type": "code",
   "execution_count": 12,
   "id": "6d781f21",
   "metadata": {
    "execution": {
     "iopub.execute_input": "2022-04-30T19:27:07.819434Z",
     "iopub.status.busy": "2022-04-30T19:27:07.819142Z",
     "iopub.status.idle": "2022-04-30T19:27:23.368540Z",
     "shell.execute_reply": "2022-04-30T19:27:23.367936Z"
    },
    "papermill": {
     "duration": 15.569844,
     "end_time": "2022-04-30T19:27:23.371828",
     "exception": false,
     "start_time": "2022-04-30T19:27:07.801984",
     "status": "completed"
    },
    "tags": []
   },
   "outputs": [
    {
     "name": "stderr",
     "output_type": "stream",
     "text": [
      "/opt/conda/lib/python3.7/site-packages/ipykernel_launcher.py:49: TqdmDeprecationWarning: This function will be removed in tqdm==5.0.0\n",
      "Please use `tqdm.notebook.tqdm` instead of `tqdm.tqdm_notebook`\n"
     ]
    },
    {
     "data": {
      "application/vnd.jupyter.widget-view+json": {
       "model_id": "017d34ddd80642dd8e885df53f61ccfa",
       "version_major": 2,
       "version_minor": 0
      },
      "text/plain": [
       "  0%|          | 0/38367 [00:00<?, ?it/s]"
      ]
     },
     "metadata": {},
     "output_type": "display_data"
    },
    {
     "name": "stdout",
     "output_type": "stream",
     "text": [
      "Correctly Predicted : 787329, Total Predictions :839790\n"
     ]
    },
    {
     "data": {
      "application/vnd.jupyter.widget-view+json": {
       "model_id": "7856a6df959a4972a97b1fd5b49caf72",
       "version_major": 2,
       "version_minor": 0
      },
      "text/plain": [
       "  0%|          | 0/9592 [00:00<?, ?it/s]"
      ]
     },
     "metadata": {},
     "output_type": "display_data"
    },
    {
     "name": "stdout",
     "output_type": "stream",
     "text": [
      "Correctly Predicted : 192683, Total Predictions :208785\n"
     ]
    }
   ],
   "source": [
    "accuracy  = {'TRAIN' : get_accuracy(train_corpus,emission_counts, vocab, states),\n",
    "            'TEST' : get_accuracy(test_corpus,emission_counts, vocab, states)}"
   ]
  },
  {
   "cell_type": "code",
   "execution_count": 13,
   "id": "d0d93e3e",
   "metadata": {
    "execution": {
     "iopub.execute_input": "2022-04-30T19:27:23.410750Z",
     "iopub.status.busy": "2022-04-30T19:27:23.410478Z",
     "iopub.status.idle": "2022-04-30T19:27:23.421055Z",
     "shell.execute_reply": "2022-04-30T19:27:23.420111Z"
    },
    "papermill": {
     "duration": 0.032535,
     "end_time": "2022-04-30T19:27:23.423527",
     "exception": false,
     "start_time": "2022-04-30T19:27:23.390992",
     "status": "completed"
    },
    "tags": []
   },
   "outputs": [
    {
     "data": {
      "text/html": [
       "<div>\n",
       "<style scoped>\n",
       "    .dataframe tbody tr th:only-of-type {\n",
       "        vertical-align: middle;\n",
       "    }\n",
       "\n",
       "    .dataframe tbody tr th {\n",
       "        vertical-align: top;\n",
       "    }\n",
       "\n",
       "    .dataframe thead th {\n",
       "        text-align: right;\n",
       "    }\n",
       "</style>\n",
       "<table border=\"1\" class=\"dataframe\">\n",
       "  <thead>\n",
       "    <tr style=\"text-align: right;\">\n",
       "      <th></th>\n",
       "      <th>TRAIN</th>\n",
       "      <th>TEST</th>\n",
       "    </tr>\n",
       "  </thead>\n",
       "  <tbody>\n",
       "    <tr>\n",
       "      <th>Simple POS Tagger</th>\n",
       "      <td>0.937531</td>\n",
       "      <td>0.922878</td>\n",
       "    </tr>\n",
       "  </tbody>\n",
       "</table>\n",
       "</div>"
      ],
      "text/plain": [
       "                      TRAIN      TEST\n",
       "Simple POS Tagger  0.937531  0.922878"
      ]
     },
     "execution_count": 13,
     "metadata": {},
     "output_type": "execute_result"
    }
   ],
   "source": [
    "df_accuracy = pd.DataFrame(accuracy, index=['Simple POS Tagger'])\n",
    "df_accuracy"
   ]
  }
 ],
 "metadata": {
  "kernelspec": {
   "display_name": "Python 3",
   "language": "python",
   "name": "python3"
  },
  "language_info": {
   "codemirror_mode": {
    "name": "ipython",
    "version": 3
   },
   "file_extension": ".py",
   "mimetype": "text/x-python",
   "name": "python",
   "nbconvert_exporter": "python",
   "pygments_lexer": "ipython3",
   "version": "3.7.12"
  },
  "papermill": {
   "default_parameters": {},
   "duration": 32.999483,
   "end_time": "2022-04-30T19:27:24.365427",
   "environment_variables": {},
   "exception": null,
   "input_path": "__notebook__.ipynb",
   "output_path": "__notebook__.ipynb",
   "parameters": {},
   "start_time": "2022-04-30T19:26:51.365944",
   "version": "2.3.4"
  },
  "widgets": {
   "application/vnd.jupyter.widget-state+json": {
    "state": {
     "017d34ddd80642dd8e885df53f61ccfa": {
      "model_module": "@jupyter-widgets/controls",
      "model_module_version": "1.5.0",
      "model_name": "HBoxModel",
      "state": {
       "_dom_classes": [],
       "_model_module": "@jupyter-widgets/controls",
       "_model_module_version": "1.5.0",
       "_model_name": "HBoxModel",
       "_view_count": null,
       "_view_module": "@jupyter-widgets/controls",
       "_view_module_version": "1.5.0",
       "_view_name": "HBoxView",
       "box_style": "",
       "children": [
        "IPY_MODEL_a78cc5db889c44998d793ee3fe1ad50f",
        "IPY_MODEL_01b3b5fa3c0149e7bdbdd470cb9d2733",
        "IPY_MODEL_f02277b7f46746d090396e80903a606e"
       ],
       "layout": "IPY_MODEL_430605bfc1c348c59803752db6b55980"
      }
     },
     "01b3b5fa3c0149e7bdbdd470cb9d2733": {
      "model_module": "@jupyter-widgets/controls",
      "model_module_version": "1.5.0",
      "model_name": "FloatProgressModel",
      "state": {
       "_dom_classes": [],
       "_model_module": "@jupyter-widgets/controls",
       "_model_module_version": "1.5.0",
       "_model_name": "FloatProgressModel",
       "_view_count": null,
       "_view_module": "@jupyter-widgets/controls",
       "_view_module_version": "1.5.0",
       "_view_name": "ProgressView",
       "bar_style": "success",
       "description": "",
       "description_tooltip": null,
       "layout": "IPY_MODEL_c8d13d21031f48cc9f904e794715e2e9",
       "max": 38367.0,
       "min": 0.0,
       "orientation": "horizontal",
       "style": "IPY_MODEL_1bd793b3303d414aaee42846a776c910",
       "value": 38367.0
      }
     },
     "1bd793b3303d414aaee42846a776c910": {
      "model_module": "@jupyter-widgets/controls",
      "model_module_version": "1.5.0",
      "model_name": "ProgressStyleModel",
      "state": {
       "_model_module": "@jupyter-widgets/controls",
       "_model_module_version": "1.5.0",
       "_model_name": "ProgressStyleModel",
       "_view_count": null,
       "_view_module": "@jupyter-widgets/base",
       "_view_module_version": "1.2.0",
       "_view_name": "StyleView",
       "bar_color": null,
       "description_width": ""
      }
     },
     "1f7e9e4cf965498c941ba34c6eb9e493": {
      "model_module": "@jupyter-widgets/base",
      "model_module_version": "1.2.0",
      "model_name": "LayoutModel",
      "state": {
       "_model_module": "@jupyter-widgets/base",
       "_model_module_version": "1.2.0",
       "_model_name": "LayoutModel",
       "_view_count": null,
       "_view_module": "@jupyter-widgets/base",
       "_view_module_version": "1.2.0",
       "_view_name": "LayoutView",
       "align_content": null,
       "align_items": null,
       "align_self": null,
       "border": null,
       "bottom": null,
       "display": null,
       "flex": null,
       "flex_flow": null,
       "grid_area": null,
       "grid_auto_columns": null,
       "grid_auto_flow": null,
       "grid_auto_rows": null,
       "grid_column": null,
       "grid_gap": null,
       "grid_row": null,
       "grid_template_areas": null,
       "grid_template_columns": null,
       "grid_template_rows": null,
       "height": null,
       "justify_content": null,
       "justify_items": null,
       "left": null,
       "margin": null,
       "max_height": null,
       "max_width": null,
       "min_height": null,
       "min_width": null,
       "object_fit": null,
       "object_position": null,
       "order": null,
       "overflow": null,
       "overflow_x": null,
       "overflow_y": null,
       "padding": null,
       "right": null,
       "top": null,
       "visibility": null,
       "width": null
      }
     },
     "2b33b5a1f73c4899938cca1770f2e0d3": {
      "model_module": "@jupyter-widgets/controls",
      "model_module_version": "1.5.0",
      "model_name": "DescriptionStyleModel",
      "state": {
       "_model_module": "@jupyter-widgets/controls",
       "_model_module_version": "1.5.0",
       "_model_name": "DescriptionStyleModel",
       "_view_count": null,
       "_view_module": "@jupyter-widgets/base",
       "_view_module_version": "1.2.0",
       "_view_name": "StyleView",
       "description_width": ""
      }
     },
     "2e9c486911c54b56be3f19d542376bb4": {
      "model_module": "@jupyter-widgets/controls",
      "model_module_version": "1.5.0",
      "model_name": "FloatProgressModel",
      "state": {
       "_dom_classes": [],
       "_model_module": "@jupyter-widgets/controls",
       "_model_module_version": "1.5.0",
       "_model_name": "FloatProgressModel",
       "_view_count": null,
       "_view_module": "@jupyter-widgets/controls",
       "_view_module_version": "1.5.0",
       "_view_name": "ProgressView",
       "bar_style": "success",
       "description": "",
       "description_tooltip": null,
       "layout": "IPY_MODEL_8a5850c9eadb497dbe9c001553943662",
       "max": 9592.0,
       "min": 0.0,
       "orientation": "horizontal",
       "style": "IPY_MODEL_bbb7372e65ea449dacb659a6bf9b83e6",
       "value": 9592.0
      }
     },
     "305f5118e8244ca387eb0be2c1f27f61": {
      "model_module": "@jupyter-widgets/controls",
      "model_module_version": "1.5.0",
      "model_name": "HTMLModel",
      "state": {
       "_dom_classes": [],
       "_model_module": "@jupyter-widgets/controls",
       "_model_module_version": "1.5.0",
       "_model_name": "HTMLModel",
       "_view_count": null,
       "_view_module": "@jupyter-widgets/controls",
       "_view_module_version": "1.5.0",
       "_view_name": "HTMLView",
       "description": "",
       "description_tooltip": null,
       "layout": "IPY_MODEL_db0349110f30443aa347124d4b66ea3d",
       "placeholder": "​",
       "style": "IPY_MODEL_3721bc2563ce4fae8ad1bf0f677f00a6",
       "value": " 38367/38367 [00:00&lt;00:00, 39137.35it/s]"
      }
     },
     "33a6dd2e3d2f487a82c6480c403260f9": {
      "model_module": "@jupyter-widgets/controls",
      "model_module_version": "1.5.0",
      "model_name": "HBoxModel",
      "state": {
       "_dom_classes": [],
       "_model_module": "@jupyter-widgets/controls",
       "_model_module_version": "1.5.0",
       "_model_name": "HBoxModel",
       "_view_count": null,
       "_view_module": "@jupyter-widgets/controls",
       "_view_module_version": "1.5.0",
       "_view_name": "HBoxView",
       "box_style": "",
       "children": [
        "IPY_MODEL_d20342f9b9dd4a91ab94677d8640e1d5",
        "IPY_MODEL_3e176dafc9c4467e8677f903bdb349ae",
        "IPY_MODEL_305f5118e8244ca387eb0be2c1f27f61"
       ],
       "layout": "IPY_MODEL_d5132b83ed5d4e90b324a4aed18e3983"
      }
     },
     "3721bc2563ce4fae8ad1bf0f677f00a6": {
      "model_module": "@jupyter-widgets/controls",
      "model_module_version": "1.5.0",
      "model_name": "DescriptionStyleModel",
      "state": {
       "_model_module": "@jupyter-widgets/controls",
       "_model_module_version": "1.5.0",
       "_model_name": "DescriptionStyleModel",
       "_view_count": null,
       "_view_module": "@jupyter-widgets/base",
       "_view_module_version": "1.2.0",
       "_view_name": "StyleView",
       "description_width": ""
      }
     },
     "386286ffde3f4a46be961b5690e6a985": {
      "model_module": "@jupyter-widgets/base",
      "model_module_version": "1.2.0",
      "model_name": "LayoutModel",
      "state": {
       "_model_module": "@jupyter-widgets/base",
       "_model_module_version": "1.2.0",
       "_model_name": "LayoutModel",
       "_view_count": null,
       "_view_module": "@jupyter-widgets/base",
       "_view_module_version": "1.2.0",
       "_view_name": "LayoutView",
       "align_content": null,
       "align_items": null,
       "align_self": null,
       "border": null,
       "bottom": null,
       "display": null,
       "flex": null,
       "flex_flow": null,
       "grid_area": null,
       "grid_auto_columns": null,
       "grid_auto_flow": null,
       "grid_auto_rows": null,
       "grid_column": null,
       "grid_gap": null,
       "grid_row": null,
       "grid_template_areas": null,
       "grid_template_columns": null,
       "grid_template_rows": null,
       "height": null,
       "justify_content": null,
       "justify_items": null,
       "left": null,
       "margin": null,
       "max_height": null,
       "max_width": null,
       "min_height": null,
       "min_width": null,
       "object_fit": null,
       "object_position": null,
       "order": null,
       "overflow": null,
       "overflow_x": null,
       "overflow_y": null,
       "padding": null,
       "right": null,
       "top": null,
       "visibility": null,
       "width": null
      }
     },
     "3e176dafc9c4467e8677f903bdb349ae": {
      "model_module": "@jupyter-widgets/controls",
      "model_module_version": "1.5.0",
      "model_name": "FloatProgressModel",
      "state": {
       "_dom_classes": [],
       "_model_module": "@jupyter-widgets/controls",
       "_model_module_version": "1.5.0",
       "_model_name": "FloatProgressModel",
       "_view_count": null,
       "_view_module": "@jupyter-widgets/controls",
       "_view_module_version": "1.5.0",
       "_view_name": "ProgressView",
       "bar_style": "success",
       "description": "",
       "description_tooltip": null,
       "layout": "IPY_MODEL_b8425c24bcdb46b98032e3a46f2e4ec9",
       "max": 38367.0,
       "min": 0.0,
       "orientation": "horizontal",
       "style": "IPY_MODEL_6349b0df55224531b0c5830d18de44cb",
       "value": 38367.0
      }
     },
     "430605bfc1c348c59803752db6b55980": {
      "model_module": "@jupyter-widgets/base",
      "model_module_version": "1.2.0",
      "model_name": "LayoutModel",
      "state": {
       "_model_module": "@jupyter-widgets/base",
       "_model_module_version": "1.2.0",
       "_model_name": "LayoutModel",
       "_view_count": null,
       "_view_module": "@jupyter-widgets/base",
       "_view_module_version": "1.2.0",
       "_view_name": "LayoutView",
       "align_content": null,
       "align_items": null,
       "align_self": null,
       "border": null,
       "bottom": null,
       "display": null,
       "flex": null,
       "flex_flow": null,
       "grid_area": null,
       "grid_auto_columns": null,
       "grid_auto_flow": null,
       "grid_auto_rows": null,
       "grid_column": null,
       "grid_gap": null,
       "grid_row": null,
       "grid_template_areas": null,
       "grid_template_columns": null,
       "grid_template_rows": null,
       "height": null,
       "justify_content": null,
       "justify_items": null,
       "left": null,
       "margin": null,
       "max_height": null,
       "max_width": null,
       "min_height": null,
       "min_width": null,
       "object_fit": null,
       "object_position": null,
       "order": null,
       "overflow": null,
       "overflow_x": null,
       "overflow_y": null,
       "padding": null,
       "right": null,
       "top": null,
       "visibility": null,
       "width": null
      }
     },
     "4dffb0d91114450ba2bb692d9c63f248": {
      "model_module": "@jupyter-widgets/controls",
      "model_module_version": "1.5.0",
      "model_name": "HTMLModel",
      "state": {
       "_dom_classes": [],
       "_model_module": "@jupyter-widgets/controls",
       "_model_module_version": "1.5.0",
       "_model_name": "HTMLModel",
       "_view_count": null,
       "_view_module": "@jupyter-widgets/controls",
       "_view_module_version": "1.5.0",
       "_view_name": "HTMLView",
       "description": "",
       "description_tooltip": null,
       "layout": "IPY_MODEL_b770ffd1948141a786b27825677b0233",
       "placeholder": "​",
       "style": "IPY_MODEL_5a0d010cf72a40c6a7ff2246260f3765",
       "value": " 9592/9592 [00:03&lt;00:00, 3273.94it/s]"
      }
     },
     "5a0d010cf72a40c6a7ff2246260f3765": {
      "model_module": "@jupyter-widgets/controls",
      "model_module_version": "1.5.0",
      "model_name": "DescriptionStyleModel",
      "state": {
       "_model_module": "@jupyter-widgets/controls",
       "_model_module_version": "1.5.0",
       "_model_name": "DescriptionStyleModel",
       "_view_count": null,
       "_view_module": "@jupyter-widgets/base",
       "_view_module_version": "1.2.0",
       "_view_name": "StyleView",
       "description_width": ""
      }
     },
     "5f736c9fc0c548b0a89c9957b56dae51": {
      "model_module": "@jupyter-widgets/controls",
      "model_module_version": "1.5.0",
      "model_name": "DescriptionStyleModel",
      "state": {
       "_model_module": "@jupyter-widgets/controls",
       "_model_module_version": "1.5.0",
       "_model_name": "DescriptionStyleModel",
       "_view_count": null,
       "_view_module": "@jupyter-widgets/base",
       "_view_module_version": "1.2.0",
       "_view_name": "StyleView",
       "description_width": ""
      }
     },
     "6349b0df55224531b0c5830d18de44cb": {
      "model_module": "@jupyter-widgets/controls",
      "model_module_version": "1.5.0",
      "model_name": "ProgressStyleModel",
      "state": {
       "_model_module": "@jupyter-widgets/controls",
       "_model_module_version": "1.5.0",
       "_model_name": "ProgressStyleModel",
       "_view_count": null,
       "_view_module": "@jupyter-widgets/base",
       "_view_module_version": "1.2.0",
       "_view_name": "StyleView",
       "bar_color": null,
       "description_width": ""
      }
     },
     "7856a6df959a4972a97b1fd5b49caf72": {
      "model_module": "@jupyter-widgets/controls",
      "model_module_version": "1.5.0",
      "model_name": "HBoxModel",
      "state": {
       "_dom_classes": [],
       "_model_module": "@jupyter-widgets/controls",
       "_model_module_version": "1.5.0",
       "_model_name": "HBoxModel",
       "_view_count": null,
       "_view_module": "@jupyter-widgets/controls",
       "_view_module_version": "1.5.0",
       "_view_name": "HBoxView",
       "box_style": "",
       "children": [
        "IPY_MODEL_8cbf4f2321dc459fbc14eda0d2ab1cba",
        "IPY_MODEL_2e9c486911c54b56be3f19d542376bb4",
        "IPY_MODEL_4dffb0d91114450ba2bb692d9c63f248"
       ],
       "layout": "IPY_MODEL_eb9e7d43fa1740969beee88f161fdce2"
      }
     },
     "8a5850c9eadb497dbe9c001553943662": {
      "model_module": "@jupyter-widgets/base",
      "model_module_version": "1.2.0",
      "model_name": "LayoutModel",
      "state": {
       "_model_module": "@jupyter-widgets/base",
       "_model_module_version": "1.2.0",
       "_model_name": "LayoutModel",
       "_view_count": null,
       "_view_module": "@jupyter-widgets/base",
       "_view_module_version": "1.2.0",
       "_view_name": "LayoutView",
       "align_content": null,
       "align_items": null,
       "align_self": null,
       "border": null,
       "bottom": null,
       "display": null,
       "flex": null,
       "flex_flow": null,
       "grid_area": null,
       "grid_auto_columns": null,
       "grid_auto_flow": null,
       "grid_auto_rows": null,
       "grid_column": null,
       "grid_gap": null,
       "grid_row": null,
       "grid_template_areas": null,
       "grid_template_columns": null,
       "grid_template_rows": null,
       "height": null,
       "justify_content": null,
       "justify_items": null,
       "left": null,
       "margin": null,
       "max_height": null,
       "max_width": null,
       "min_height": null,
       "min_width": null,
       "object_fit": null,
       "object_position": null,
       "order": null,
       "overflow": null,
       "overflow_x": null,
       "overflow_y": null,
       "padding": null,
       "right": null,
       "top": null,
       "visibility": null,
       "width": null
      }
     },
     "8cbf4f2321dc459fbc14eda0d2ab1cba": {
      "model_module": "@jupyter-widgets/controls",
      "model_module_version": "1.5.0",
      "model_name": "HTMLModel",
      "state": {
       "_dom_classes": [],
       "_model_module": "@jupyter-widgets/controls",
       "_model_module_version": "1.5.0",
       "_model_name": "HTMLModel",
       "_view_count": null,
       "_view_module": "@jupyter-widgets/controls",
       "_view_module_version": "1.5.0",
       "_view_name": "HTMLView",
       "description": "",
       "description_tooltip": null,
       "layout": "IPY_MODEL_386286ffde3f4a46be961b5690e6a985",
       "placeholder": "​",
       "style": "IPY_MODEL_2b33b5a1f73c4899938cca1770f2e0d3",
       "value": "100%"
      }
     },
     "a78cc5db889c44998d793ee3fe1ad50f": {
      "model_module": "@jupyter-widgets/controls",
      "model_module_version": "1.5.0",
      "model_name": "HTMLModel",
      "state": {
       "_dom_classes": [],
       "_model_module": "@jupyter-widgets/controls",
       "_model_module_version": "1.5.0",
       "_model_name": "HTMLModel",
       "_view_count": null,
       "_view_module": "@jupyter-widgets/controls",
       "_view_module_version": "1.5.0",
       "_view_name": "HTMLView",
       "description": "",
       "description_tooltip": null,
       "layout": "IPY_MODEL_b87561556be641b0aabca0063ffc0a8f",
       "placeholder": "​",
       "style": "IPY_MODEL_d649e5a2c90248c7807637c936c75648",
       "value": "100%"
      }
     },
     "b42e6eb9e8564b9ebd91027b82c37849": {
      "model_module": "@jupyter-widgets/controls",
      "model_module_version": "1.5.0",
      "model_name": "DescriptionStyleModel",
      "state": {
       "_model_module": "@jupyter-widgets/controls",
       "_model_module_version": "1.5.0",
       "_model_name": "DescriptionStyleModel",
       "_view_count": null,
       "_view_module": "@jupyter-widgets/base",
       "_view_module_version": "1.2.0",
       "_view_name": "StyleView",
       "description_width": ""
      }
     },
     "b770ffd1948141a786b27825677b0233": {
      "model_module": "@jupyter-widgets/base",
      "model_module_version": "1.2.0",
      "model_name": "LayoutModel",
      "state": {
       "_model_module": "@jupyter-widgets/base",
       "_model_module_version": "1.2.0",
       "_model_name": "LayoutModel",
       "_view_count": null,
       "_view_module": "@jupyter-widgets/base",
       "_view_module_version": "1.2.0",
       "_view_name": "LayoutView",
       "align_content": null,
       "align_items": null,
       "align_self": null,
       "border": null,
       "bottom": null,
       "display": null,
       "flex": null,
       "flex_flow": null,
       "grid_area": null,
       "grid_auto_columns": null,
       "grid_auto_flow": null,
       "grid_auto_rows": null,
       "grid_column": null,
       "grid_gap": null,
       "grid_row": null,
       "grid_template_areas": null,
       "grid_template_columns": null,
       "grid_template_rows": null,
       "height": null,
       "justify_content": null,
       "justify_items": null,
       "left": null,
       "margin": null,
       "max_height": null,
       "max_width": null,
       "min_height": null,
       "min_width": null,
       "object_fit": null,
       "object_position": null,
       "order": null,
       "overflow": null,
       "overflow_x": null,
       "overflow_y": null,
       "padding": null,
       "right": null,
       "top": null,
       "visibility": null,
       "width": null
      }
     },
     "b8425c24bcdb46b98032e3a46f2e4ec9": {
      "model_module": "@jupyter-widgets/base",
      "model_module_version": "1.2.0",
      "model_name": "LayoutModel",
      "state": {
       "_model_module": "@jupyter-widgets/base",
       "_model_module_version": "1.2.0",
       "_model_name": "LayoutModel",
       "_view_count": null,
       "_view_module": "@jupyter-widgets/base",
       "_view_module_version": "1.2.0",
       "_view_name": "LayoutView",
       "align_content": null,
       "align_items": null,
       "align_self": null,
       "border": null,
       "bottom": null,
       "display": null,
       "flex": null,
       "flex_flow": null,
       "grid_area": null,
       "grid_auto_columns": null,
       "grid_auto_flow": null,
       "grid_auto_rows": null,
       "grid_column": null,
       "grid_gap": null,
       "grid_row": null,
       "grid_template_areas": null,
       "grid_template_columns": null,
       "grid_template_rows": null,
       "height": null,
       "justify_content": null,
       "justify_items": null,
       "left": null,
       "margin": null,
       "max_height": null,
       "max_width": null,
       "min_height": null,
       "min_width": null,
       "object_fit": null,
       "object_position": null,
       "order": null,
       "overflow": null,
       "overflow_x": null,
       "overflow_y": null,
       "padding": null,
       "right": null,
       "top": null,
       "visibility": null,
       "width": null
      }
     },
     "b87561556be641b0aabca0063ffc0a8f": {
      "model_module": "@jupyter-widgets/base",
      "model_module_version": "1.2.0",
      "model_name": "LayoutModel",
      "state": {
       "_model_module": "@jupyter-widgets/base",
       "_model_module_version": "1.2.0",
       "_model_name": "LayoutModel",
       "_view_count": null,
       "_view_module": "@jupyter-widgets/base",
       "_view_module_version": "1.2.0",
       "_view_name": "LayoutView",
       "align_content": null,
       "align_items": null,
       "align_self": null,
       "border": null,
       "bottom": null,
       "display": null,
       "flex": null,
       "flex_flow": null,
       "grid_area": null,
       "grid_auto_columns": null,
       "grid_auto_flow": null,
       "grid_auto_rows": null,
       "grid_column": null,
       "grid_gap": null,
       "grid_row": null,
       "grid_template_areas": null,
       "grid_template_columns": null,
       "grid_template_rows": null,
       "height": null,
       "justify_content": null,
       "justify_items": null,
       "left": null,
       "margin": null,
       "max_height": null,
       "max_width": null,
       "min_height": null,
       "min_width": null,
       "object_fit": null,
       "object_position": null,
       "order": null,
       "overflow": null,
       "overflow_x": null,
       "overflow_y": null,
       "padding": null,
       "right": null,
       "top": null,
       "visibility": null,
       "width": null
      }
     },
     "bbb7372e65ea449dacb659a6bf9b83e6": {
      "model_module": "@jupyter-widgets/controls",
      "model_module_version": "1.5.0",
      "model_name": "ProgressStyleModel",
      "state": {
       "_model_module": "@jupyter-widgets/controls",
       "_model_module_version": "1.5.0",
       "_model_name": "ProgressStyleModel",
       "_view_count": null,
       "_view_module": "@jupyter-widgets/base",
       "_view_module_version": "1.2.0",
       "_view_name": "StyleView",
       "bar_color": null,
       "description_width": ""
      }
     },
     "c8d13d21031f48cc9f904e794715e2e9": {
      "model_module": "@jupyter-widgets/base",
      "model_module_version": "1.2.0",
      "model_name": "LayoutModel",
      "state": {
       "_model_module": "@jupyter-widgets/base",
       "_model_module_version": "1.2.0",
       "_model_name": "LayoutModel",
       "_view_count": null,
       "_view_module": "@jupyter-widgets/base",
       "_view_module_version": "1.2.0",
       "_view_name": "LayoutView",
       "align_content": null,
       "align_items": null,
       "align_self": null,
       "border": null,
       "bottom": null,
       "display": null,
       "flex": null,
       "flex_flow": null,
       "grid_area": null,
       "grid_auto_columns": null,
       "grid_auto_flow": null,
       "grid_auto_rows": null,
       "grid_column": null,
       "grid_gap": null,
       "grid_row": null,
       "grid_template_areas": null,
       "grid_template_columns": null,
       "grid_template_rows": null,
       "height": null,
       "justify_content": null,
       "justify_items": null,
       "left": null,
       "margin": null,
       "max_height": null,
       "max_width": null,
       "min_height": null,
       "min_width": null,
       "object_fit": null,
       "object_position": null,
       "order": null,
       "overflow": null,
       "overflow_x": null,
       "overflow_y": null,
       "padding": null,
       "right": null,
       "top": null,
       "visibility": null,
       "width": null
      }
     },
     "d20342f9b9dd4a91ab94677d8640e1d5": {
      "model_module": "@jupyter-widgets/controls",
      "model_module_version": "1.5.0",
      "model_name": "HTMLModel",
      "state": {
       "_dom_classes": [],
       "_model_module": "@jupyter-widgets/controls",
       "_model_module_version": "1.5.0",
       "_model_name": "HTMLModel",
       "_view_count": null,
       "_view_module": "@jupyter-widgets/controls",
       "_view_module_version": "1.5.0",
       "_view_name": "HTMLView",
       "description": "",
       "description_tooltip": null,
       "layout": "IPY_MODEL_1f7e9e4cf965498c941ba34c6eb9e493",
       "placeholder": "​",
       "style": "IPY_MODEL_5f736c9fc0c548b0a89c9957b56dae51",
       "value": "100%"
      }
     },
     "d5132b83ed5d4e90b324a4aed18e3983": {
      "model_module": "@jupyter-widgets/base",
      "model_module_version": "1.2.0",
      "model_name": "LayoutModel",
      "state": {
       "_model_module": "@jupyter-widgets/base",
       "_model_module_version": "1.2.0",
       "_model_name": "LayoutModel",
       "_view_count": null,
       "_view_module": "@jupyter-widgets/base",
       "_view_module_version": "1.2.0",
       "_view_name": "LayoutView",
       "align_content": null,
       "align_items": null,
       "align_self": null,
       "border": null,
       "bottom": null,
       "display": null,
       "flex": null,
       "flex_flow": null,
       "grid_area": null,
       "grid_auto_columns": null,
       "grid_auto_flow": null,
       "grid_auto_rows": null,
       "grid_column": null,
       "grid_gap": null,
       "grid_row": null,
       "grid_template_areas": null,
       "grid_template_columns": null,
       "grid_template_rows": null,
       "height": null,
       "justify_content": null,
       "justify_items": null,
       "left": null,
       "margin": null,
       "max_height": null,
       "max_width": null,
       "min_height": null,
       "min_width": null,
       "object_fit": null,
       "object_position": null,
       "order": null,
       "overflow": null,
       "overflow_x": null,
       "overflow_y": null,
       "padding": null,
       "right": null,
       "top": null,
       "visibility": null,
       "width": null
      }
     },
     "d649e5a2c90248c7807637c936c75648": {
      "model_module": "@jupyter-widgets/controls",
      "model_module_version": "1.5.0",
      "model_name": "DescriptionStyleModel",
      "state": {
       "_model_module": "@jupyter-widgets/controls",
       "_model_module_version": "1.5.0",
       "_model_name": "DescriptionStyleModel",
       "_view_count": null,
       "_view_module": "@jupyter-widgets/base",
       "_view_module_version": "1.2.0",
       "_view_name": "StyleView",
       "description_width": ""
      }
     },
     "db0349110f30443aa347124d4b66ea3d": {
      "model_module": "@jupyter-widgets/base",
      "model_module_version": "1.2.0",
      "model_name": "LayoutModel",
      "state": {
       "_model_module": "@jupyter-widgets/base",
       "_model_module_version": "1.2.0",
       "_model_name": "LayoutModel",
       "_view_count": null,
       "_view_module": "@jupyter-widgets/base",
       "_view_module_version": "1.2.0",
       "_view_name": "LayoutView",
       "align_content": null,
       "align_items": null,
       "align_self": null,
       "border": null,
       "bottom": null,
       "display": null,
       "flex": null,
       "flex_flow": null,
       "grid_area": null,
       "grid_auto_columns": null,
       "grid_auto_flow": null,
       "grid_auto_rows": null,
       "grid_column": null,
       "grid_gap": null,
       "grid_row": null,
       "grid_template_areas": null,
       "grid_template_columns": null,
       "grid_template_rows": null,
       "height": null,
       "justify_content": null,
       "justify_items": null,
       "left": null,
       "margin": null,
       "max_height": null,
       "max_width": null,
       "min_height": null,
       "min_width": null,
       "object_fit": null,
       "object_position": null,
       "order": null,
       "overflow": null,
       "overflow_x": null,
       "overflow_y": null,
       "padding": null,
       "right": null,
       "top": null,
       "visibility": null,
       "width": null
      }
     },
     "e3f74339ce25479890c263459f1c74b2": {
      "model_module": "@jupyter-widgets/base",
      "model_module_version": "1.2.0",
      "model_name": "LayoutModel",
      "state": {
       "_model_module": "@jupyter-widgets/base",
       "_model_module_version": "1.2.0",
       "_model_name": "LayoutModel",
       "_view_count": null,
       "_view_module": "@jupyter-widgets/base",
       "_view_module_version": "1.2.0",
       "_view_name": "LayoutView",
       "align_content": null,
       "align_items": null,
       "align_self": null,
       "border": null,
       "bottom": null,
       "display": null,
       "flex": null,
       "flex_flow": null,
       "grid_area": null,
       "grid_auto_columns": null,
       "grid_auto_flow": null,
       "grid_auto_rows": null,
       "grid_column": null,
       "grid_gap": null,
       "grid_row": null,
       "grid_template_areas": null,
       "grid_template_columns": null,
       "grid_template_rows": null,
       "height": null,
       "justify_content": null,
       "justify_items": null,
       "left": null,
       "margin": null,
       "max_height": null,
       "max_width": null,
       "min_height": null,
       "min_width": null,
       "object_fit": null,
       "object_position": null,
       "order": null,
       "overflow": null,
       "overflow_x": null,
       "overflow_y": null,
       "padding": null,
       "right": null,
       "top": null,
       "visibility": null,
       "width": null
      }
     },
     "eb9e7d43fa1740969beee88f161fdce2": {
      "model_module": "@jupyter-widgets/base",
      "model_module_version": "1.2.0",
      "model_name": "LayoutModel",
      "state": {
       "_model_module": "@jupyter-widgets/base",
       "_model_module_version": "1.2.0",
       "_model_name": "LayoutModel",
       "_view_count": null,
       "_view_module": "@jupyter-widgets/base",
       "_view_module_version": "1.2.0",
       "_view_name": "LayoutView",
       "align_content": null,
       "align_items": null,
       "align_self": null,
       "border": null,
       "bottom": null,
       "display": null,
       "flex": null,
       "flex_flow": null,
       "grid_area": null,
       "grid_auto_columns": null,
       "grid_auto_flow": null,
       "grid_auto_rows": null,
       "grid_column": null,
       "grid_gap": null,
       "grid_row": null,
       "grid_template_areas": null,
       "grid_template_columns": null,
       "grid_template_rows": null,
       "height": null,
       "justify_content": null,
       "justify_items": null,
       "left": null,
       "margin": null,
       "max_height": null,
       "max_width": null,
       "min_height": null,
       "min_width": null,
       "object_fit": null,
       "object_position": null,
       "order": null,
       "overflow": null,
       "overflow_x": null,
       "overflow_y": null,
       "padding": null,
       "right": null,
       "top": null,
       "visibility": null,
       "width": null
      }
     },
     "f02277b7f46746d090396e80903a606e": {
      "model_module": "@jupyter-widgets/controls",
      "model_module_version": "1.5.0",
      "model_name": "HTMLModel",
      "state": {
       "_dom_classes": [],
       "_model_module": "@jupyter-widgets/controls",
       "_model_module_version": "1.5.0",
       "_model_name": "HTMLModel",
       "_view_count": null,
       "_view_module": "@jupyter-widgets/controls",
       "_view_module_version": "1.5.0",
       "_view_name": "HTMLView",
       "description": "",
       "description_tooltip": null,
       "layout": "IPY_MODEL_e3f74339ce25479890c263459f1c74b2",
       "placeholder": "​",
       "style": "IPY_MODEL_b42e6eb9e8564b9ebd91027b82c37849",
       "value": " 38367/38367 [00:12&lt;00:00, 3226.50it/s]"
      }
     }
    },
    "version_major": 2,
    "version_minor": 0
   }
  }
 },
 "nbformat": 4,
 "nbformat_minor": 5
}
