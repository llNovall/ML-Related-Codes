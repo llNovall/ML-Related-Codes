{
 "cells": [
  {
   "cell_type": "code",
   "execution_count": 1,
   "id": "56bc30af",
   "metadata": {
    "_cell_guid": "b1076dfc-b9ad-4769-8c92-a6c4dae69d19",
    "_uuid": "8f2839f25d086af736a60e9eeb907d3b93b6e0e5",
    "execution": {
     "iopub.execute_input": "2022-05-19T18:26:12.304802Z",
     "iopub.status.busy": "2022-05-19T18:26:12.304383Z",
     "iopub.status.idle": "2022-05-19T18:26:15.776963Z",
     "shell.execute_reply": "2022-05-19T18:26:15.776067Z"
    },
    "papermill": {
     "duration": 3.494442,
     "end_time": "2022-05-19T18:26:15.779403",
     "exception": false,
     "start_time": "2022-05-19T18:26:12.284961",
     "status": "completed"
    },
    "tags": []
   },
   "outputs": [],
   "source": [
    "import numpy as np\n",
    "import pandas as pd\n",
    "\n",
    "import torch\n",
    "import torch.nn as nn\n",
    "from  torchvision import transforms\n",
    "from torch.utils.data import DataLoader\n",
    "\n",
    "from sklearn.model_selection import train_test_split\n",
    "from sklearn.preprocessing import OneHotEncoder\n",
    "from sklearn.metrics import accuracy_score\n",
    "\n",
    "import tqdm.notebook as t\n",
    "import os"
   ]
  },
  {
   "cell_type": "code",
   "execution_count": 2,
   "id": "7cc39a8a",
   "metadata": {
    "execution": {
     "iopub.execute_input": "2022-05-19T18:26:15.815668Z",
     "iopub.status.busy": "2022-05-19T18:26:15.815225Z",
     "iopub.status.idle": "2022-05-19T18:26:15.826387Z",
     "shell.execute_reply": "2022-05-19T18:26:15.825559Z"
    },
    "papermill": {
     "duration": 0.030393,
     "end_time": "2022-05-19T18:26:15.828342",
     "exception": false,
     "start_time": "2022-05-19T18:26:15.797949",
     "status": "completed"
    },
    "tags": []
   },
   "outputs": [
    {
     "data": {
      "text/plain": [
       "<torch._C.Generator at 0x7ff0699b4310>"
      ]
     },
     "execution_count": 2,
     "metadata": {},
     "output_type": "execute_result"
    }
   ],
   "source": [
    "torch.manual_seed(17)"
   ]
  },
  {
   "cell_type": "code",
   "execution_count": 3,
   "id": "e9caa424",
   "metadata": {
    "execution": {
     "iopub.execute_input": "2022-05-19T18:26:15.864924Z",
     "iopub.status.busy": "2022-05-19T18:26:15.864605Z",
     "iopub.status.idle": "2022-05-19T18:26:15.868717Z",
     "shell.execute_reply": "2022-05-19T18:26:15.867951Z"
    },
    "papermill": {
     "duration": 0.024636,
     "end_time": "2022-05-19T18:26:15.870605",
     "exception": false,
     "start_time": "2022-05-19T18:26:15.845969",
     "status": "completed"
    },
    "tags": []
   },
   "outputs": [],
   "source": [
    "DEVICE = torch.device('cuda')\n",
    "BATCH_SIZE = 8\n",
    "EPOCH = 30"
   ]
  },
  {
   "cell_type": "code",
   "execution_count": 4,
   "id": "81d5a7dd",
   "metadata": {
    "execution": {
     "iopub.execute_input": "2022-05-19T18:26:15.906977Z",
     "iopub.status.busy": "2022-05-19T18:26:15.906341Z",
     "iopub.status.idle": "2022-05-19T18:26:21.342305Z",
     "shell.execute_reply": "2022-05-19T18:26:21.341500Z"
    },
    "papermill": {
     "duration": 5.456761,
     "end_time": "2022-05-19T18:26:21.344957",
     "exception": false,
     "start_time": "2022-05-19T18:26:15.888196",
     "status": "completed"
    },
    "tags": []
   },
   "outputs": [],
   "source": [
    "TRAIN_DATA = pd.read_csv('../input/digit-recognizer/train.csv')\n",
    "TEST_DATA = pd.read_csv('../input/digit-recognizer/test.csv')\n",
    "Y_TRAIN_DATA = TRAIN_DATA.pop('label')"
   ]
  },
  {
   "cell_type": "code",
   "execution_count": 5,
   "id": "052145ca",
   "metadata": {
    "execution": {
     "iopub.execute_input": "2022-05-19T18:26:21.382890Z",
     "iopub.status.busy": "2022-05-19T18:26:21.382595Z",
     "iopub.status.idle": "2022-05-19T18:26:21.393151Z",
     "shell.execute_reply": "2022-05-19T18:26:21.392430Z"
    },
    "papermill": {
     "duration": 0.031021,
     "end_time": "2022-05-19T18:26:21.395069",
     "exception": false,
     "start_time": "2022-05-19T18:26:21.364048",
     "status": "completed"
    },
    "tags": []
   },
   "outputs": [],
   "source": [
    "one_hot_encoder = OneHotEncoder(sparse=False)\n",
    "y_encoded = one_hot_encoder.fit_transform(Y_TRAIN_DATA.to_numpy().reshape(-1,1))"
   ]
  },
  {
   "cell_type": "code",
   "execution_count": 6,
   "id": "3950053a",
   "metadata": {
    "execution": {
     "iopub.execute_input": "2022-05-19T18:26:21.431467Z",
     "iopub.status.busy": "2022-05-19T18:26:21.430920Z",
     "iopub.status.idle": "2022-05-19T18:26:22.002711Z",
     "shell.execute_reply": "2022-05-19T18:26:22.001864Z"
    },
    "papermill": {
     "duration": 0.592441,
     "end_time": "2022-05-19T18:26:22.005337",
     "exception": false,
     "start_time": "2022-05-19T18:26:21.412896",
     "status": "completed"
    },
    "tags": []
   },
   "outputs": [],
   "source": [
    "train_data, val_data, y_train, y_val = train_test_split(TRAIN_DATA.to_numpy(), y_encoded, train_size=0.8, random_state=1)"
   ]
  },
  {
   "cell_type": "code",
   "execution_count": 7,
   "id": "da434e96",
   "metadata": {
    "execution": {
     "iopub.execute_input": "2022-05-19T18:26:22.043150Z",
     "iopub.status.busy": "2022-05-19T18:26:22.042855Z",
     "iopub.status.idle": "2022-05-19T18:26:22.053411Z",
     "shell.execute_reply": "2022-05-19T18:26:22.052588Z"
    },
    "papermill": {
     "duration": 0.031507,
     "end_time": "2022-05-19T18:26:22.055486",
     "exception": false,
     "start_time": "2022-05-19T18:26:22.023979",
     "status": "completed"
    },
    "tags": []
   },
   "outputs": [],
   "source": [
    "class ImageTrainDataset():\n",
    "    def __init__(self, data, labels):\n",
    "        self.data = data\n",
    "        self.labels = labels\n",
    "        \n",
    "    def __len__(self):\n",
    "        return len(self.data)\n",
    "    \n",
    "    def __getitem__(self, idx):\n",
    "        data = self.data[idx]\n",
    "        label = self.labels[idx]\n",
    "        \n",
    "        data = data/255.0\n",
    "        data = np.reshape(data, (1, 28,28))\n",
    "        \n",
    "        data = torch.tensor(data).type(torch.float)\n",
    "        label = torch.tensor(label, dtype=torch.float)\n",
    "        \n",
    "        return data, label\n",
    "        \n",
    "class ImageTestDataset():\n",
    "    def __init__(self, data):\n",
    "        self.data = data\n",
    "        \n",
    "    def __len__(self):\n",
    "        return len(self.data)\n",
    "    \n",
    "    def __getitem__(self, idx):\n",
    "        data = self.data[idx]\n",
    "        \n",
    "        data = data/255.0\n",
    "        data = np.reshape(data, (1, 28,28))\n",
    "        \n",
    "        data = torch.tensor(data).type(torch.float)\n",
    "        \n",
    "        return data"
   ]
  },
  {
   "cell_type": "code",
   "execution_count": 8,
   "id": "3e02126b",
   "metadata": {
    "execution": {
     "iopub.execute_input": "2022-05-19T18:26:22.095326Z",
     "iopub.status.busy": "2022-05-19T18:26:22.094732Z",
     "iopub.status.idle": "2022-05-19T18:26:22.099640Z",
     "shell.execute_reply": "2022-05-19T18:26:22.098734Z"
    },
    "papermill": {
     "duration": 0.028514,
     "end_time": "2022-05-19T18:26:22.102050",
     "exception": false,
     "start_time": "2022-05-19T18:26:22.073536",
     "status": "completed"
    },
    "tags": []
   },
   "outputs": [],
   "source": [
    "train_dataset = ImageTrainDataset(train_data, y_train)\n",
    "val_dataset = ImageTrainDataset(val_data, y_val)\n",
    "test_dataset = ImageTestDataset(TEST_DATA.to_numpy())"
   ]
  },
  {
   "cell_type": "code",
   "execution_count": 9,
   "id": "9ca92800",
   "metadata": {
    "execution": {
     "iopub.execute_input": "2022-05-19T18:26:22.139655Z",
     "iopub.status.busy": "2022-05-19T18:26:22.139346Z",
     "iopub.status.idle": "2022-05-19T18:26:22.144714Z",
     "shell.execute_reply": "2022-05-19T18:26:22.143921Z"
    },
    "papermill": {
     "duration": 0.026323,
     "end_time": "2022-05-19T18:26:22.146618",
     "exception": false,
     "start_time": "2022-05-19T18:26:22.120295",
     "status": "completed"
    },
    "tags": []
   },
   "outputs": [],
   "source": [
    "train_dl = DataLoader(train_dataset, BATCH_SIZE, pin_memory=True, shuffle=True, num_workers=os.cpu_count())\n",
    "val_dl =DataLoader(val_dataset, BATCH_SIZE, pin_memory=True, num_workers=os.cpu_count())\n",
    "test_dl =DataLoader(test_dataset, BATCH_SIZE, pin_memory=True, num_workers=os.cpu_count())"
   ]
  },
  {
   "cell_type": "code",
   "execution_count": 10,
   "id": "ab345984",
   "metadata": {
    "execution": {
     "iopub.execute_input": "2022-05-19T18:26:22.184929Z",
     "iopub.status.busy": "2022-05-19T18:26:22.184625Z",
     "iopub.status.idle": "2022-05-19T18:26:22.211621Z",
     "shell.execute_reply": "2022-05-19T18:26:22.210843Z"
    },
    "papermill": {
     "duration": 0.048778,
     "end_time": "2022-05-19T18:26:22.213575",
     "exception": false,
     "start_time": "2022-05-19T18:26:22.164797",
     "status": "completed"
    },
    "tags": []
   },
   "outputs": [],
   "source": [
    "class DigitRecognizer(nn.Module):\n",
    "    def __init__(self, num_channels):\n",
    "        super(DigitRecognizer, self).__init__()\n",
    "        \n",
    "        self.loss_fn = nn.BCELoss(reduction='mean')\n",
    "        \n",
    "        self.tranform1 = nn.Sequential(\n",
    "            transforms.RandomRotation(70)\n",
    "        )\n",
    "        \n",
    "        self.conv1 = nn.Sequential(\n",
    "            nn.Conv2d(num_channels, 128, kernel_size=3, padding=2, stride=1),\n",
    "            nn.ReLU(),\n",
    "            nn.MaxPool2d(kernel_size=3, padding=1, stride=1),\n",
    "            nn.Dropout2d(0.1)\n",
    "        )\n",
    "        \n",
    "        self.conv2 = nn.Sequential(\n",
    "            nn.Conv2d(128, 128, kernel_size=3, padding=2, stride=1),\n",
    "            nn.ReLU(),\n",
    "            nn.MaxPool2d(kernel_size=3, padding=1, stride=1),\n",
    "            nn.Dropout2d(0.1)\n",
    "        )\n",
    "        \n",
    "        self.conv3 = nn.Sequential(\n",
    "            nn.Conv2d(128, 128, kernel_size=3, padding=2, stride=1),\n",
    "            nn.LeakyReLU(),\n",
    "            nn.MaxPool2d(kernel_size=3, padding=1, stride=1)\n",
    "        )\n",
    "        \n",
    "        self.conv4 = nn.Sequential(\n",
    "            nn.Conv2d(128, 128, kernel_size=3, padding=2, stride=1),\n",
    "            nn.LeakyReLU(),\n",
    "            nn.MaxPool2d(kernel_size=3, padding=1, stride=1)\n",
    "        )\n",
    "        \n",
    "        self.conv5 = nn.Sequential(\n",
    "            nn.Conv2d(128, 128, kernel_size=3, padding=2, stride=1),\n",
    "            nn.LeakyReLU(),\n",
    "            nn.MaxPool2d(kernel_size=3, padding=1, stride=1)\n",
    "        )\n",
    "\n",
    "        self.flatten1 = nn.Flatten()\n",
    "        self.linear1 = nn.Linear(184832,10)\n",
    "        self.sigmoid1 = nn.Sigmoid()\n",
    "        \n",
    "    def forward(self, x, y):\n",
    "        \n",
    "        output = x\n",
    "        output = self.tranform1(output)\n",
    "        output = self.conv1(output)\n",
    "        output = self.conv2(output)\n",
    "        output = self.conv3(output)\n",
    "        output = self.conv4(output)\n",
    "        output = self.conv5(output)\n",
    "\n",
    "        output = self.flatten1(output)\n",
    "        output = self.linear1(output)\n",
    "        output = self.sigmoid1(output)\n",
    "\n",
    "        loss = self.loss_fn(output, y)\n",
    "        \n",
    "        return loss, output\n",
    "    \n",
    "    def predict(self, x):\n",
    "        \n",
    "        output = x\n",
    "        \n",
    "        output = self.conv1(output)\n",
    "        output = self.conv2(output)\n",
    "        output = self.conv3(output)\n",
    "        output = self.conv4(output)\n",
    "        output = self.conv5(output)\n",
    "            \n",
    "        output = self.flatten1(output)\n",
    "        output = self.linear1(output)\n",
    "        output = self.sigmoid1(output)\n",
    "\n",
    "        return np.argmax(output.detach().numpy(), axis=1)\n",
    "    \n",
    "    def train_using_train_dl(self, optimizer, train_dl, device):\n",
    "        \n",
    "        self.train()\n",
    "        \n",
    "        losses = []\n",
    "        acc = []\n",
    "        \n",
    "        total = len(train_dl)\n",
    "\n",
    "        for idx , data in enumerate(train_dl):\n",
    "            image, label = data\n",
    "            image = image.to(device)\n",
    "            label = label.to(device)\n",
    "            \n",
    "            optimizer.zero_grad()\n",
    "            \n",
    "            loss, output = self(image, label)\n",
    "            losses.append(loss.item())\n",
    "            loss.backward()\n",
    "            \n",
    "            optimizer.step()\n",
    "            \n",
    "            acc.append(accuracy_score(np.argmax(label.cpu(), axis=1), np.argmax(output.cpu().detach().numpy(), axis=1)))\n",
    "            \n",
    "            print(f'{idx} / {total} - Loss : {sum(losses) / len(losses):0.4f}, Accuracy : {sum(acc) / len(acc):0.4f}', end='\\r')\n",
    "            \n",
    "        return sum(losses) / len(losses) , sum(acc) / len(acc)\n",
    "    \n",
    "    def evaluate_using_val_dl(self, val_dl, device):\n",
    "        \n",
    "        self.eval()\n",
    "        \n",
    "        losses = []\n",
    "        acc = []\n",
    "        total = len(val_dl)\n",
    "        \n",
    "        with torch.no_grad():\n",
    "            \n",
    "            for idx, data in enumerate(val_dl):\n",
    "                image, label = data\n",
    "                image = image.to(device)\n",
    "                label = label.to(device)\n",
    "\n",
    "                loss, output = self(image, label)\n",
    "                losses.append(loss.item())\n",
    "\n",
    "                acc.append(accuracy_score(np.argmax(label.cpu(), axis=1), np.argmax(output.cpu().detach().numpy(), axis=1)))\n",
    "\n",
    "                print(f'{idx} / {total} - Val_Loss : {sum(losses) / len(losses):0.4f}, Val_Accuracy : {sum(acc) / len(acc):0.4f}', end='\\r')\n",
    "                \n",
    "        return sum(losses) / len(losses) , sum(acc) / len(acc)"
   ]
  },
  {
   "cell_type": "code",
   "execution_count": 11,
   "id": "a67192f3",
   "metadata": {
    "execution": {
     "iopub.execute_input": "2022-05-19T18:26:22.251474Z",
     "iopub.status.busy": "2022-05-19T18:26:22.250976Z",
     "iopub.status.idle": "2022-05-19T18:26:25.311607Z",
     "shell.execute_reply": "2022-05-19T18:26:25.310764Z"
    },
    "papermill": {
     "duration": 3.081866,
     "end_time": "2022-05-19T18:26:25.313604",
     "exception": false,
     "start_time": "2022-05-19T18:26:22.231738",
     "status": "completed"
    },
    "tags": []
   },
   "outputs": [
    {
     "data": {
      "text/plain": [
       "DigitRecognizer(\n",
       "  (loss_fn): BCELoss()\n",
       "  (tranform1): Sequential(\n",
       "    (0): RandomRotation(degrees=[-70.0, 70.0], interpolation=nearest, expand=False, fill=0)\n",
       "  )\n",
       "  (conv1): Sequential(\n",
       "    (0): Conv2d(1, 128, kernel_size=(3, 3), stride=(1, 1), padding=(2, 2))\n",
       "    (1): ReLU()\n",
       "    (2): MaxPool2d(kernel_size=3, stride=1, padding=1, dilation=1, ceil_mode=False)\n",
       "    (3): Dropout2d(p=0.1, inplace=False)\n",
       "  )\n",
       "  (conv2): Sequential(\n",
       "    (0): Conv2d(128, 128, kernel_size=(3, 3), stride=(1, 1), padding=(2, 2))\n",
       "    (1): ReLU()\n",
       "    (2): MaxPool2d(kernel_size=3, stride=1, padding=1, dilation=1, ceil_mode=False)\n",
       "    (3): Dropout2d(p=0.1, inplace=False)\n",
       "  )\n",
       "  (conv3): Sequential(\n",
       "    (0): Conv2d(128, 128, kernel_size=(3, 3), stride=(1, 1), padding=(2, 2))\n",
       "    (1): LeakyReLU(negative_slope=0.01)\n",
       "    (2): MaxPool2d(kernel_size=3, stride=1, padding=1, dilation=1, ceil_mode=False)\n",
       "  )\n",
       "  (conv4): Sequential(\n",
       "    (0): Conv2d(128, 128, kernel_size=(3, 3), stride=(1, 1), padding=(2, 2))\n",
       "    (1): LeakyReLU(negative_slope=0.01)\n",
       "    (2): MaxPool2d(kernel_size=3, stride=1, padding=1, dilation=1, ceil_mode=False)\n",
       "  )\n",
       "  (conv5): Sequential(\n",
       "    (0): Conv2d(128, 128, kernel_size=(3, 3), stride=(1, 1), padding=(2, 2))\n",
       "    (1): LeakyReLU(negative_slope=0.01)\n",
       "    (2): MaxPool2d(kernel_size=3, stride=1, padding=1, dilation=1, ceil_mode=False)\n",
       "  )\n",
       "  (flatten1): Flatten(start_dim=1, end_dim=-1)\n",
       "  (linear1): Linear(in_features=184832, out_features=10, bias=True)\n",
       "  (sigmoid1): Sigmoid()\n",
       ")"
      ]
     },
     "execution_count": 11,
     "metadata": {},
     "output_type": "execute_result"
    }
   ],
   "source": [
    "model = DigitRecognizer(num_channels=1)\n",
    "model.to(DEVICE)"
   ]
  },
  {
   "cell_type": "code",
   "execution_count": 12,
   "id": "50fb08fd",
   "metadata": {
    "execution": {
     "iopub.execute_input": "2022-05-19T18:26:25.350364Z",
     "iopub.status.busy": "2022-05-19T18:26:25.349895Z",
     "iopub.status.idle": "2022-05-19T18:26:25.354543Z",
     "shell.execute_reply": "2022-05-19T18:26:25.353644Z"
    },
    "papermill": {
     "duration": 0.025553,
     "end_time": "2022-05-19T18:26:25.356725",
     "exception": false,
     "start_time": "2022-05-19T18:26:25.331172",
     "status": "completed"
    },
    "tags": []
   },
   "outputs": [],
   "source": [
    "optimizer = torch.optim.Adam(model.parameters(), lr=0.001, eps=0.1)"
   ]
  },
  {
   "cell_type": "code",
   "execution_count": 13,
   "id": "2713bba1",
   "metadata": {
    "execution": {
     "iopub.execute_input": "2022-05-19T18:26:25.394196Z",
     "iopub.status.busy": "2022-05-19T18:26:25.393305Z",
     "iopub.status.idle": "2022-05-19T18:26:25.401468Z",
     "shell.execute_reply": "2022-05-19T18:26:25.400692Z"
    },
    "papermill": {
     "duration": 0.029389,
     "end_time": "2022-05-19T18:26:25.403433",
     "exception": false,
     "start_time": "2022-05-19T18:26:25.374044",
     "status": "completed"
    },
    "tags": []
   },
   "outputs": [],
   "source": [
    "def train_model(epochs, model, optimizer, train_dl, val_dl, device):\n",
    "    \n",
    "    history = {\n",
    "                'train_loss' : [],\n",
    "                'val_loss' : [],\n",
    "                'train_accuracy' : [],\n",
    "                'val_accuracy' : []\n",
    "              }\n",
    "    \n",
    "    for epoch in range(epochs):\n",
    "        print(f'EPOCH : {epoch + 1} / {epochs}')\n",
    "        \n",
    "        train_loss, train_acc = model.train_using_train_dl(optimizer, train_dl, device)\n",
    "        val_loss, val_acc = model.evaluate_using_val_dl(val_dl, device)\n",
    "        \n",
    "        history['train_loss'].append(train_loss)\n",
    "        history['val_loss'].append(val_loss)\n",
    "        history['train_accuracy'].append(train_acc)\n",
    "        history['val_accuracy'].append(val_acc)\n",
    "        \n",
    "        print(f'Loss : {train_loss:0.4f}, Accuracy : {train_acc:0.4f}, Val_Loss : {val_loss:0.4f}, Val_Accuracy : {val_acc:0.4f}')\n",
    "\n",
    "    return history\n",
    "        \n",
    "        "
   ]
  },
  {
   "cell_type": "code",
   "execution_count": 14,
   "id": "efdd65bc",
   "metadata": {
    "execution": {
     "iopub.execute_input": "2022-05-19T18:26:25.440272Z",
     "iopub.status.busy": "2022-05-19T18:26:25.439820Z",
     "iopub.status.idle": "2022-05-19T19:24:54.055585Z",
     "shell.execute_reply": "2022-05-19T19:24:54.054297Z"
    },
    "papermill": {
     "duration": 3508.6371,
     "end_time": "2022-05-19T19:24:54.058390",
     "exception": false,
     "start_time": "2022-05-19T18:26:25.421290",
     "status": "completed"
    },
    "tags": []
   },
   "outputs": [
    {
     "name": "stdout",
     "output_type": "stream",
     "text": [
      "EPOCH : 1 / 30\n",
      "Loss : 0.2115, Accuracy : 0.5600, Val_Loss : 0.0980, Val_Accuracy : 0.8536\n",
      "EPOCH : 2 / 30\n",
      "Loss : 0.0780, Accuracy : 0.8915, Val_Loss : 0.0567, Val_Accuracy : 0.9282\n",
      "EPOCH : 3 / 30\n",
      "Loss : 0.0511, Accuracy : 0.9346, Val_Loss : 0.0468, Val_Accuracy : 0.9442\n",
      "EPOCH : 4 / 30\n",
      "Loss : 0.0422, Accuracy : 0.9474, Val_Loss : 0.0347, Val_Accuracy : 0.9579\n",
      "EPOCH : 5 / 30\n",
      "Loss : 0.0379, Accuracy : 0.9530, Val_Loss : 0.0327, Val_Accuracy : 0.9602\n",
      "EPOCH : 6 / 30\n",
      "Loss : 0.0346, Accuracy : 0.9562, Val_Loss : 0.0296, Val_Accuracy : 0.9617\n",
      "EPOCH : 7 / 30\n",
      "Loss : 0.0313, Accuracy : 0.9613, Val_Loss : 0.0281, Val_Accuracy : 0.9652\n",
      "EPOCH : 8 / 30\n",
      "Loss : 0.0294, Accuracy : 0.9642, Val_Loss : 0.0255, Val_Accuracy : 0.9677\n",
      "EPOCH : 9 / 30\n",
      "Loss : 0.0276, Accuracy : 0.9663, Val_Loss : 0.0243, Val_Accuracy : 0.9704\n",
      "EPOCH : 10 / 30\n",
      "Loss : 0.0266, Accuracy : 0.9668, Val_Loss : 0.0247, Val_Accuracy : 0.9675\n",
      "EPOCH : 11 / 30\n",
      "Loss : 0.0256, Accuracy : 0.9687, Val_Loss : 0.0236, Val_Accuracy : 0.9693\n",
      "EPOCH : 12 / 30\n",
      "Loss : 0.0242, Accuracy : 0.9704, Val_Loss : 0.0224, Val_Accuracy : 0.9724\n",
      "EPOCH : 13 / 30\n",
      "Loss : 0.0237, Accuracy : 0.9705, Val_Loss : 0.0209, Val_Accuracy : 0.9730\n",
      "EPOCH : 14 / 30\n",
      "Loss : 0.0227, Accuracy : 0.9728, Val_Loss : 0.0209, Val_Accuracy : 0.9736\n",
      "EPOCH : 15 / 30\n",
      "Loss : 0.0217, Accuracy : 0.9739, Val_Loss : 0.0205, Val_Accuracy : 0.9761\n",
      "EPOCH : 16 / 30\n",
      "Loss : 0.0215, Accuracy : 0.9724, Val_Loss : 0.0205, Val_Accuracy : 0.9746\n",
      "EPOCH : 17 / 30\n",
      "Loss : 0.0209, Accuracy : 0.9743, Val_Loss : 0.0215, Val_Accuracy : 0.9710\n",
      "EPOCH : 18 / 30\n",
      "Loss : 0.0198, Accuracy : 0.9753, Val_Loss : 0.0204, Val_Accuracy : 0.9779\n",
      "EPOCH : 19 / 30\n",
      "Loss : 0.0197, Accuracy : 0.9757, Val_Loss : 0.0181, Val_Accuracy : 0.9788\n",
      "EPOCH : 20 / 30\n",
      "Loss : 0.0195, Accuracy : 0.9762, Val_Loss : 0.0183, Val_Accuracy : 0.9792\n",
      "EPOCH : 21 / 30\n",
      "Loss : 0.0187, Accuracy : 0.9772, Val_Loss : 0.0191, Val_Accuracy : 0.9755\n",
      "EPOCH : 22 / 30\n",
      "Loss : 0.0178, Accuracy : 0.9785, Val_Loss : 0.0185, Val_Accuracy : 0.9781\n",
      "EPOCH : 23 / 30\n",
      "Loss : 0.0181, Accuracy : 0.9778, Val_Loss : 0.0186, Val_Accuracy : 0.9773\n",
      "EPOCH : 24 / 30\n",
      "Loss : 0.0178, Accuracy : 0.9778, Val_Loss : 0.0181, Val_Accuracy : 0.9804\n",
      "EPOCH : 25 / 30\n",
      "Loss : 0.0169, Accuracy : 0.9796, Val_Loss : 0.0179, Val_Accuracy : 0.9777\n",
      "EPOCH : 26 / 30\n",
      "Loss : 0.0171, Accuracy : 0.9790, Val_Loss : 0.0165, Val_Accuracy : 0.9812\n",
      "EPOCH : 27 / 30\n",
      "Loss : 0.0164, Accuracy : 0.9810, Val_Loss : 0.0170, Val_Accuracy : 0.9786\n",
      "EPOCH : 28 / 30\n",
      "Loss : 0.0162, Accuracy : 0.9801, Val_Loss : 0.0162, Val_Accuracy : 0.9800\n",
      "EPOCH : 29 / 30\n",
      "Loss : 0.0161, Accuracy : 0.9810, Val_Loss : 0.0168, Val_Accuracy : 0.9795\n",
      "EPOCH : 30 / 30\n",
      "Loss : 0.0161, Accuracy : 0.9815, Val_Loss : 0.0159, Val_Accuracy : 0.9814\n"
     ]
    },
    {
     "data": {
      "text/plain": [
       "{'train_loss': [0.21153259943461133,\n",
       "  0.07804063595631824,\n",
       "  0.05113654467149727,\n",
       "  0.04215784822887231,\n",
       "  0.03787253882551644,\n",
       "  0.034556994927725536,\n",
       "  0.031312518204670466,\n",
       "  0.029378620238761262,\n",
       "  0.027595276684206468,\n",
       "  0.026594411962976752,\n",
       "  0.025563416975578766,\n",
       "  0.02421474423087992,\n",
       "  0.023666126965943564,\n",
       "  0.022748281942823224,\n",
       "  0.02169014657851048,\n",
       "  0.021503553675988985,\n",
       "  0.020854933355963327,\n",
       "  0.019830585428259967,\n",
       "  0.019688504732411752,\n",
       "  0.019538256003233116,\n",
       "  0.01866907519946662,\n",
       "  0.017822591328818124,\n",
       "  0.018137061064971066,\n",
       "  0.01779576699114668,\n",
       "  0.016944813246194654,\n",
       "  0.01714754890063367,\n",
       "  0.016412455520010208,\n",
       "  0.016214311619894162,\n",
       "  0.01611991016185736,\n",
       "  0.01609204369589168],\n",
       " 'val_loss': [0.09802711584028743,\n",
       "  0.05667421108666098,\n",
       "  0.04680197139891485,\n",
       "  0.03472160073274392,\n",
       "  0.032685732798251724,\n",
       "  0.029584855395008897,\n",
       "  0.028065186915087647,\n",
       "  0.025462846846923987,\n",
       "  0.024323509024966154,\n",
       "  0.024714145743277013,\n",
       "  0.023556892422271804,\n",
       "  0.022429489384341562,\n",
       "  0.020906387358623935,\n",
       "  0.020942648923734115,\n",
       "  0.020485942391858858,\n",
       "  0.02046983499481853,\n",
       "  0.021539904841615463,\n",
       "  0.020394704488308414,\n",
       "  0.018074297541281252,\n",
       "  0.018341539806223453,\n",
       "  0.019134696881845315,\n",
       "  0.018497105640445148,\n",
       "  0.01856167715745479,\n",
       "  0.018136017629169925,\n",
       "  0.01790100676294796,\n",
       "  0.01647004681577701,\n",
       "  0.017007064587243284,\n",
       "  0.01618056513702738,\n",
       "  0.016817700268612023,\n",
       "  0.015947130276531208],\n",
       " 'train_accuracy': [0.559970238095238,\n",
       "  0.8914583333333334,\n",
       "  0.9345535714285714,\n",
       "  0.9474404761904762,\n",
       "  0.9529761904761904,\n",
       "  0.9561607142857143,\n",
       "  0.9613095238095238,\n",
       "  0.9642261904761905,\n",
       "  0.9663392857142857,\n",
       "  0.9667857142857142,\n",
       "  0.9686904761904762,\n",
       "  0.9704464285714286,\n",
       "  0.9705059523809524,\n",
       "  0.9727678571428572,\n",
       "  0.9739285714285715,\n",
       "  0.9723511904761905,\n",
       "  0.9743154761904762,\n",
       "  0.9753273809523809,\n",
       "  0.9757440476190476,\n",
       "  0.9761607142857143,\n",
       "  0.977202380952381,\n",
       "  0.978452380952381,\n",
       "  0.9777678571428572,\n",
       "  0.9777678571428572,\n",
       "  0.9795535714285715,\n",
       "  0.9790178571428572,\n",
       "  0.9809523809523809,\n",
       "  0.9800892857142857,\n",
       "  0.9810119047619048,\n",
       "  0.981547619047619],\n",
       " 'val_accuracy': [0.8535714285714285,\n",
       "  0.9282142857142858,\n",
       "  0.9441666666666667,\n",
       "  0.9578571428571429,\n",
       "  0.9602380952380952,\n",
       "  0.9616666666666667,\n",
       "  0.9652380952380952,\n",
       "  0.9677380952380953,\n",
       "  0.9703571428571428,\n",
       "  0.9675,\n",
       "  0.9692857142857143,\n",
       "  0.9723809523809523,\n",
       "  0.9729761904761904,\n",
       "  0.9735714285714285,\n",
       "  0.9760714285714286,\n",
       "  0.9746428571428571,\n",
       "  0.9709523809523809,\n",
       "  0.9778571428571429,\n",
       "  0.9788095238095238,\n",
       "  0.9791666666666666,\n",
       "  0.9754761904761905,\n",
       "  0.9780952380952381,\n",
       "  0.9772619047619048,\n",
       "  0.9803571428571428,\n",
       "  0.9777380952380952,\n",
       "  0.9811904761904762,\n",
       "  0.9785714285714285,\n",
       "  0.98,\n",
       "  0.9795238095238096,\n",
       "  0.9814285714285714]}"
      ]
     },
     "execution_count": 14,
     "metadata": {},
     "output_type": "execute_result"
    }
   ],
   "source": [
    "train_model(EPOCH, model, optimizer, train_dl, val_dl, DEVICE)"
   ]
  },
  {
   "cell_type": "code",
   "execution_count": 15,
   "id": "a274c14d",
   "metadata": {
    "execution": {
     "iopub.execute_input": "2022-05-19T19:25:11.147362Z",
     "iopub.status.busy": "2022-05-19T19:25:11.146803Z",
     "iopub.status.idle": "2022-05-19T19:25:11.153039Z",
     "shell.execute_reply": "2022-05-19T19:25:11.152247Z"
    },
    "papermill": {
     "duration": 8.861623,
     "end_time": "2022-05-19T19:25:11.154944",
     "exception": false,
     "start_time": "2022-05-19T19:25:02.293321",
     "status": "completed"
    },
    "tags": []
   },
   "outputs": [],
   "source": [
    "def create_submission(model, test_dl):\n",
    "    model.to('cpu')\n",
    "    submission = {'ImageId': [],\n",
    "                'Label' : []}\n",
    "    \n",
    "    for data in t.tqdm_notebook(test_dl):\n",
    "        pred = model.predict(data)\n",
    "        submission['Label'].extend(pred)\n",
    "    submission['ImageId'] = list(range(1,len(submission['Label']) + 1))\n",
    "    return submission"
   ]
  },
  {
   "cell_type": "code",
   "execution_count": 16,
   "id": "970f08ca",
   "metadata": {
    "execution": {
     "iopub.execute_input": "2022-05-19T19:25:28.748501Z",
     "iopub.status.busy": "2022-05-19T19:25:28.747846Z",
     "iopub.status.idle": "2022-05-19T19:43:58.039957Z",
     "shell.execute_reply": "2022-05-19T19:43:58.039023Z"
    },
    "papermill": {
     "duration": 1118.411882,
     "end_time": "2022-05-19T19:43:58.042620",
     "exception": false,
     "start_time": "2022-05-19T19:25:19.630738",
     "status": "completed"
    },
    "tags": []
   },
   "outputs": [
    {
     "data": {
      "application/vnd.jupyter.widget-view+json": {
       "model_id": "efa5a9ee8cb748558535e91ec6a8090c",
       "version_major": 2,
       "version_minor": 0
      },
      "text/plain": [
       "  0%|          | 0/3500 [00:00<?, ?it/s]"
      ]
     },
     "metadata": {},
     "output_type": "display_data"
    }
   ],
   "source": [
    "submission = create_submission(model, test_dl)\n",
    "df_submission = pd.DataFrame(submission)\n",
    "df_submission.to_csv('submission.csv', index=False)"
   ]
  },
  {
   "cell_type": "code",
   "execution_count": 17,
   "id": "4c7a4612",
   "metadata": {
    "execution": {
     "iopub.execute_input": "2022-05-19T19:44:14.773351Z",
     "iopub.status.busy": "2022-05-19T19:44:14.773057Z",
     "iopub.status.idle": "2022-05-19T19:44:14.789229Z",
     "shell.execute_reply": "2022-05-19T19:44:14.788306Z"
    },
    "papermill": {
     "duration": 8.510718,
     "end_time": "2022-05-19T19:44:14.791607",
     "exception": false,
     "start_time": "2022-05-19T19:44:06.280889",
     "status": "completed"
    },
    "tags": []
   },
   "outputs": [
    {
     "data": {
      "text/html": [
       "<div>\n",
       "<style scoped>\n",
       "    .dataframe tbody tr th:only-of-type {\n",
       "        vertical-align: middle;\n",
       "    }\n",
       "\n",
       "    .dataframe tbody tr th {\n",
       "        vertical-align: top;\n",
       "    }\n",
       "\n",
       "    .dataframe thead th {\n",
       "        text-align: right;\n",
       "    }\n",
       "</style>\n",
       "<table border=\"1\" class=\"dataframe\">\n",
       "  <thead>\n",
       "    <tr style=\"text-align: right;\">\n",
       "      <th></th>\n",
       "      <th>ImageId</th>\n",
       "      <th>Label</th>\n",
       "    </tr>\n",
       "  </thead>\n",
       "  <tbody>\n",
       "    <tr>\n",
       "      <th>0</th>\n",
       "      <td>1</td>\n",
       "      <td>2</td>\n",
       "    </tr>\n",
       "    <tr>\n",
       "      <th>1</th>\n",
       "      <td>2</td>\n",
       "      <td>0</td>\n",
       "    </tr>\n",
       "    <tr>\n",
       "      <th>2</th>\n",
       "      <td>3</td>\n",
       "      <td>9</td>\n",
       "    </tr>\n",
       "    <tr>\n",
       "      <th>3</th>\n",
       "      <td>4</td>\n",
       "      <td>0</td>\n",
       "    </tr>\n",
       "    <tr>\n",
       "      <th>4</th>\n",
       "      <td>5</td>\n",
       "      <td>3</td>\n",
       "    </tr>\n",
       "    <tr>\n",
       "      <th>...</th>\n",
       "      <td>...</td>\n",
       "      <td>...</td>\n",
       "    </tr>\n",
       "    <tr>\n",
       "      <th>27995</th>\n",
       "      <td>27996</td>\n",
       "      <td>9</td>\n",
       "    </tr>\n",
       "    <tr>\n",
       "      <th>27996</th>\n",
       "      <td>27997</td>\n",
       "      <td>7</td>\n",
       "    </tr>\n",
       "    <tr>\n",
       "      <th>27997</th>\n",
       "      <td>27998</td>\n",
       "      <td>3</td>\n",
       "    </tr>\n",
       "    <tr>\n",
       "      <th>27998</th>\n",
       "      <td>27999</td>\n",
       "      <td>9</td>\n",
       "    </tr>\n",
       "    <tr>\n",
       "      <th>27999</th>\n",
       "      <td>28000</td>\n",
       "      <td>2</td>\n",
       "    </tr>\n",
       "  </tbody>\n",
       "</table>\n",
       "<p>28000 rows × 2 columns</p>\n",
       "</div>"
      ],
      "text/plain": [
       "       ImageId  Label\n",
       "0            1      2\n",
       "1            2      0\n",
       "2            3      9\n",
       "3            4      0\n",
       "4            5      3\n",
       "...        ...    ...\n",
       "27995    27996      9\n",
       "27996    27997      7\n",
       "27997    27998      3\n",
       "27998    27999      9\n",
       "27999    28000      2\n",
       "\n",
       "[28000 rows x 2 columns]"
      ]
     },
     "execution_count": 17,
     "metadata": {},
     "output_type": "execute_result"
    }
   ],
   "source": [
    "df_submission"
   ]
  }
 ],
 "metadata": {
  "kernelspec": {
   "display_name": "Python 3",
   "language": "python",
   "name": "python3"
  },
  "language_info": {
   "codemirror_mode": {
    "name": "ipython",
    "version": 3
   },
   "file_extension": ".py",
   "mimetype": "text/x-python",
   "name": "python",
   "nbconvert_exporter": "python",
   "pygments_lexer": "ipython3",
   "version": "3.7.12"
  },
  "papermill": {
   "default_parameters": {},
   "duration": 4703.36672,
   "end_time": "2022-05-19T19:44:26.364483",
   "environment_variables": {},
   "exception": null,
   "input_path": "__notebook__.ipynb",
   "output_path": "__notebook__.ipynb",
   "parameters": {},
   "start_time": "2022-05-19T18:26:02.997763",
   "version": "2.3.4"
  },
  "widgets": {
   "application/vnd.jupyter.widget-state+json": {
    "state": {
     "1309a9515c35481baf5fd6da0c87cbed": {
      "model_module": "@jupyter-widgets/controls",
      "model_module_version": "1.5.0",
      "model_name": "DescriptionStyleModel",
      "state": {
       "_model_module": "@jupyter-widgets/controls",
       "_model_module_version": "1.5.0",
       "_model_name": "DescriptionStyleModel",
       "_view_count": null,
       "_view_module": "@jupyter-widgets/base",
       "_view_module_version": "1.2.0",
       "_view_name": "StyleView",
       "description_width": ""
      }
     },
     "1ca7d163188f442ea4b944d4d28176ea": {
      "model_module": "@jupyter-widgets/base",
      "model_module_version": "1.2.0",
      "model_name": "LayoutModel",
      "state": {
       "_model_module": "@jupyter-widgets/base",
       "_model_module_version": "1.2.0",
       "_model_name": "LayoutModel",
       "_view_count": null,
       "_view_module": "@jupyter-widgets/base",
       "_view_module_version": "1.2.0",
       "_view_name": "LayoutView",
       "align_content": null,
       "align_items": null,
       "align_self": null,
       "border": null,
       "bottom": null,
       "display": null,
       "flex": null,
       "flex_flow": null,
       "grid_area": null,
       "grid_auto_columns": null,
       "grid_auto_flow": null,
       "grid_auto_rows": null,
       "grid_column": null,
       "grid_gap": null,
       "grid_row": null,
       "grid_template_areas": null,
       "grid_template_columns": null,
       "grid_template_rows": null,
       "height": null,
       "justify_content": null,
       "justify_items": null,
       "left": null,
       "margin": null,
       "max_height": null,
       "max_width": null,
       "min_height": null,
       "min_width": null,
       "object_fit": null,
       "object_position": null,
       "order": null,
       "overflow": null,
       "overflow_x": null,
       "overflow_y": null,
       "padding": null,
       "right": null,
       "top": null,
       "visibility": null,
       "width": null
      }
     },
     "559ea39bc0d842a6b6d349611aa7d46e": {
      "model_module": "@jupyter-widgets/controls",
      "model_module_version": "1.5.0",
      "model_name": "DescriptionStyleModel",
      "state": {
       "_model_module": "@jupyter-widgets/controls",
       "_model_module_version": "1.5.0",
       "_model_name": "DescriptionStyleModel",
       "_view_count": null,
       "_view_module": "@jupyter-widgets/base",
       "_view_module_version": "1.2.0",
       "_view_name": "StyleView",
       "description_width": ""
      }
     },
     "6609b868e99d4b53bd243f928ed4a020": {
      "model_module": "@jupyter-widgets/controls",
      "model_module_version": "1.5.0",
      "model_name": "ProgressStyleModel",
      "state": {
       "_model_module": "@jupyter-widgets/controls",
       "_model_module_version": "1.5.0",
       "_model_name": "ProgressStyleModel",
       "_view_count": null,
       "_view_module": "@jupyter-widgets/base",
       "_view_module_version": "1.2.0",
       "_view_name": "StyleView",
       "bar_color": null,
       "description_width": ""
      }
     },
     "95a9e24c955b4df29fd92484cedb065b": {
      "model_module": "@jupyter-widgets/base",
      "model_module_version": "1.2.0",
      "model_name": "LayoutModel",
      "state": {
       "_model_module": "@jupyter-widgets/base",
       "_model_module_version": "1.2.0",
       "_model_name": "LayoutModel",
       "_view_count": null,
       "_view_module": "@jupyter-widgets/base",
       "_view_module_version": "1.2.0",
       "_view_name": "LayoutView",
       "align_content": null,
       "align_items": null,
       "align_self": null,
       "border": null,
       "bottom": null,
       "display": null,
       "flex": null,
       "flex_flow": null,
       "grid_area": null,
       "grid_auto_columns": null,
       "grid_auto_flow": null,
       "grid_auto_rows": null,
       "grid_column": null,
       "grid_gap": null,
       "grid_row": null,
       "grid_template_areas": null,
       "grid_template_columns": null,
       "grid_template_rows": null,
       "height": null,
       "justify_content": null,
       "justify_items": null,
       "left": null,
       "margin": null,
       "max_height": null,
       "max_width": null,
       "min_height": null,
       "min_width": null,
       "object_fit": null,
       "object_position": null,
       "order": null,
       "overflow": null,
       "overflow_x": null,
       "overflow_y": null,
       "padding": null,
       "right": null,
       "top": null,
       "visibility": null,
       "width": null
      }
     },
     "bd2508347b504abeae50b482a6251004": {
      "model_module": "@jupyter-widgets/base",
      "model_module_version": "1.2.0",
      "model_name": "LayoutModel",
      "state": {
       "_model_module": "@jupyter-widgets/base",
       "_model_module_version": "1.2.0",
       "_model_name": "LayoutModel",
       "_view_count": null,
       "_view_module": "@jupyter-widgets/base",
       "_view_module_version": "1.2.0",
       "_view_name": "LayoutView",
       "align_content": null,
       "align_items": null,
       "align_self": null,
       "border": null,
       "bottom": null,
       "display": null,
       "flex": null,
       "flex_flow": null,
       "grid_area": null,
       "grid_auto_columns": null,
       "grid_auto_flow": null,
       "grid_auto_rows": null,
       "grid_column": null,
       "grid_gap": null,
       "grid_row": null,
       "grid_template_areas": null,
       "grid_template_columns": null,
       "grid_template_rows": null,
       "height": null,
       "justify_content": null,
       "justify_items": null,
       "left": null,
       "margin": null,
       "max_height": null,
       "max_width": null,
       "min_height": null,
       "min_width": null,
       "object_fit": null,
       "object_position": null,
       "order": null,
       "overflow": null,
       "overflow_x": null,
       "overflow_y": null,
       "padding": null,
       "right": null,
       "top": null,
       "visibility": null,
       "width": null
      }
     },
     "c44834a303454131a68f2a22e58a2472": {
      "model_module": "@jupyter-widgets/controls",
      "model_module_version": "1.5.0",
      "model_name": "HTMLModel",
      "state": {
       "_dom_classes": [],
       "_model_module": "@jupyter-widgets/controls",
       "_model_module_version": "1.5.0",
       "_model_name": "HTMLModel",
       "_view_count": null,
       "_view_module": "@jupyter-widgets/controls",
       "_view_module_version": "1.5.0",
       "_view_name": "HTMLView",
       "description": "",
       "description_tooltip": null,
       "layout": "IPY_MODEL_1ca7d163188f442ea4b944d4d28176ea",
       "placeholder": "​",
       "style": "IPY_MODEL_1309a9515c35481baf5fd6da0c87cbed",
       "value": "100%"
      }
     },
     "c9364002486e4654a4f14ef6b898182b": {
      "model_module": "@jupyter-widgets/base",
      "model_module_version": "1.2.0",
      "model_name": "LayoutModel",
      "state": {
       "_model_module": "@jupyter-widgets/base",
       "_model_module_version": "1.2.0",
       "_model_name": "LayoutModel",
       "_view_count": null,
       "_view_module": "@jupyter-widgets/base",
       "_view_module_version": "1.2.0",
       "_view_name": "LayoutView",
       "align_content": null,
       "align_items": null,
       "align_self": null,
       "border": null,
       "bottom": null,
       "display": null,
       "flex": null,
       "flex_flow": null,
       "grid_area": null,
       "grid_auto_columns": null,
       "grid_auto_flow": null,
       "grid_auto_rows": null,
       "grid_column": null,
       "grid_gap": null,
       "grid_row": null,
       "grid_template_areas": null,
       "grid_template_columns": null,
       "grid_template_rows": null,
       "height": null,
       "justify_content": null,
       "justify_items": null,
       "left": null,
       "margin": null,
       "max_height": null,
       "max_width": null,
       "min_height": null,
       "min_width": null,
       "object_fit": null,
       "object_position": null,
       "order": null,
       "overflow": null,
       "overflow_x": null,
       "overflow_y": null,
       "padding": null,
       "right": null,
       "top": null,
       "visibility": null,
       "width": null
      }
     },
     "cf48bb703ebc4b54b7839e6adf5915c3": {
      "model_module": "@jupyter-widgets/controls",
      "model_module_version": "1.5.0",
      "model_name": "HTMLModel",
      "state": {
       "_dom_classes": [],
       "_model_module": "@jupyter-widgets/controls",
       "_model_module_version": "1.5.0",
       "_model_name": "HTMLModel",
       "_view_count": null,
       "_view_module": "@jupyter-widgets/controls",
       "_view_module_version": "1.5.0",
       "_view_name": "HTMLView",
       "description": "",
       "description_tooltip": null,
       "layout": "IPY_MODEL_c9364002486e4654a4f14ef6b898182b",
       "placeholder": "​",
       "style": "IPY_MODEL_559ea39bc0d842a6b6d349611aa7d46e",
       "value": " 3500/3500 [18:29&lt;00:00,  3.23it/s]"
      }
     },
     "eb27ed2d935942cf80d151057b63fd3e": {
      "model_module": "@jupyter-widgets/controls",
      "model_module_version": "1.5.0",
      "model_name": "FloatProgressModel",
      "state": {
       "_dom_classes": [],
       "_model_module": "@jupyter-widgets/controls",
       "_model_module_version": "1.5.0",
       "_model_name": "FloatProgressModel",
       "_view_count": null,
       "_view_module": "@jupyter-widgets/controls",
       "_view_module_version": "1.5.0",
       "_view_name": "ProgressView",
       "bar_style": "success",
       "description": "",
       "description_tooltip": null,
       "layout": "IPY_MODEL_95a9e24c955b4df29fd92484cedb065b",
       "max": 3500.0,
       "min": 0.0,
       "orientation": "horizontal",
       "style": "IPY_MODEL_6609b868e99d4b53bd243f928ed4a020",
       "value": 3500.0
      }
     },
     "efa5a9ee8cb748558535e91ec6a8090c": {
      "model_module": "@jupyter-widgets/controls",
      "model_module_version": "1.5.0",
      "model_name": "HBoxModel",
      "state": {
       "_dom_classes": [],
       "_model_module": "@jupyter-widgets/controls",
       "_model_module_version": "1.5.0",
       "_model_name": "HBoxModel",
       "_view_count": null,
       "_view_module": "@jupyter-widgets/controls",
       "_view_module_version": "1.5.0",
       "_view_name": "HBoxView",
       "box_style": "",
       "children": [
        "IPY_MODEL_c44834a303454131a68f2a22e58a2472",
        "IPY_MODEL_eb27ed2d935942cf80d151057b63fd3e",
        "IPY_MODEL_cf48bb703ebc4b54b7839e6adf5915c3"
       ],
       "layout": "IPY_MODEL_bd2508347b504abeae50b482a6251004"
      }
     }
    },
    "version_major": 2,
    "version_minor": 0
   }
  }
 },
 "nbformat": 4,
 "nbformat_minor": 5
}
